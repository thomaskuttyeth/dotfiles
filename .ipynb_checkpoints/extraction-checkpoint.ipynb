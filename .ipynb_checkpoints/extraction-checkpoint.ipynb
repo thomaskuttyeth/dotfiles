{
 "cells": [
  {
   "cell_type": "code",
   "execution_count": 1,
   "id": "acff7e75",
   "metadata": {},
   "outputs": [],
   "source": [
    "\n",
    "families={\n",
    "    'receiver':{'01':'receiver_first','02':'receiver_middle','03':'receiver_last_name'}, # sender info\n",
    "    'sender':{'01':'sender_first','02':'sender_middle','03':'sender_last_name','04':'transaction_id','05':'sender_address'}, # receiver info\n",
    "    'additional_info':{'01':'transaction_id','02':'amount'} # additional info\n",
    "}\n",
    "\n",
    "family_name = {\n",
    "    '01':'receiver',\n",
    "    '02':'sender',\n",
    "    '03':'additional_info'\n",
    "}\n",
    "\n",
    "\n",
    "string0 = '010100106thomas020100206martin0302001108547824728020241'\n",
    "\n",
    "string1 = \"010080304luke020080304stev0302001107025423499020241\" # sample strings \n",
    "string2 = \"010080304meri0302001109562348628020241\"\n",
    "strings = [string0,string1,string2]"
   ]
  },
  {
   "cell_type": "code",
   "execution_count": 2,
   "id": "67f34cb2",
   "metadata": {
    "scrolled": true
   },
   "outputs": [],
   "source": [
    "import re\n",
    "# sepearating blocks main blocks (sender, reciever and additional info) from the main string\n",
    "def get_blocks(string):\n",
    "    pattern = re.compile(r'\\d\\d\\d\\d\\d')\n",
    "    matches = pattern.finditer(string)\n",
    "    for i in matches:\n",
    "        family = string[0:5]\n",
    "        family_l = int(string[2:5])\n",
    "        block = string[5:5+family_l]\n",
    "        string_blocks.append((family_name[family[:2]],block))\n",
    "        string = string[5+family_l:]\n",
    "        return get_blocks(string)"
   ]
  },
  {
   "cell_type": "code",
   "execution_count": 3,
   "id": "8ffb5b9e",
   "metadata": {},
   "outputs": [],
   "source": [
    "# from block and the family : extracting the sublevel keys and values \n",
    "# eg. sender family has { 01,02,03,04 } keys and the corresponding values \n",
    "def get_row(st,family):\n",
    "    codes = families[family]  \n",
    "    row.fromkeys(list((codes.keys())))\n",
    "    for i in range(len(st)-1):\n",
    "        try:\n",
    "            code = st[i:i+2]\n",
    "            if code in codes:\n",
    "                len_ = int(st[i+2:i+4])\n",
    "                data = st[i+4:i+4+len_]\n",
    "                if data:\n",
    "                    row[code]=data\n",
    "                st = st[i+4+len_:]\n",
    "                return get_row(st,family)\n",
    "        except:\n",
    "            continue"
   ]
  },
  {
   "cell_type": "code",
   "execution_count": 4,
   "id": "dcfada5d",
   "metadata": {},
   "outputs": [],
   "source": [
    "# finally creating a list of final rows which contains a dictionary for each row: \n",
    "# each dictionary has keys (representing the families) and values representing the {sub}\n",
    "final_rows = []\n",
    "for string in strings:\n",
    "    string_blocks = []\n",
    "    get_blocks(string)\n",
    "    \n",
    "    rows = {}\n",
    "    rows.fromkeys(families)\n",
    "    \n",
    "    for st_bl in string_blocks:\n",
    "        row = {}\n",
    "        get_row(st_bl[1],st_bl[0])\n",
    "        rows[st_bl[0]] = row\n",
    "    final_rows.append(rows)"
   ]
  },
  {
   "cell_type": "code",
   "execution_count": 5,
   "id": "f58a17cd",
   "metadata": {},
   "outputs": [
    {
     "data": {
      "text/plain": [
       "[{'receiver': {'01': 'thomas'},\n",
       "  'sender': {'02': 'martin'},\n",
       "  'additional_info': {'01': '8547824728', '02': '41'}},\n",
       " {'receiver': {'03': 'luke'},\n",
       "  'sender': {'03': 'stev'},\n",
       "  'additional_info': {'01': '7025423499', '02': '41'}},\n",
       " {'receiver': {'03': 'meri'},\n",
       "  'additional_info': {'01': '9562348628', '02': '41'}}]"
      ]
     },
     "execution_count": 5,
     "metadata": {},
     "output_type": "execute_result"
    }
   ],
   "source": [
    "final_rows"
   ]
  },
  {
   "cell_type": "code",
   "execution_count": 6,
   "id": "4410f5a2",
   "metadata": {},
   "outputs": [],
   "source": [
    "receiver_infos = []\n",
    "additional_infos = []\n",
    "sender_infos = []\n",
    "for i in final_rows:\n",
    "    if 'receiver' in i.keys():\n",
    "        receiver_infos.append(i[\"receiver\"])\n",
    "    else:\n",
    "        reciver_infos.append('NaN')\n",
    "        \n",
    "    if 'additional_info' in i.keys():\n",
    "        additional_infos.append(i['additional_info'])\n",
    "    else:\n",
    "        additional_infos.append('NaN')\n",
    "    \n",
    "    if 'sender' in i.keys():\n",
    "        sender_infos.append(i['sender'])\n",
    "    else:\n",
    "        sender_infos.append('NaN')"
   ]
  },
  {
   "cell_type": "code",
   "execution_count": 7,
   "id": "3f572474",
   "metadata": {},
   "outputs": [],
   "source": [
    "# combine the  info groups with the coresponding features names \n",
    "def get_features(family,informations):\n",
    "    feature_values = {}\n",
    "    \n",
    "    receiver_features = {}\n",
    "    for key,name in families[family].items():\n",
    "    \n",
    "        feature_name = name\n",
    "        name = []\n",
    "        name = [i[key] if key in i else 'NaN' for i in informations]\n",
    "        feature_values[feature_name] = name\n",
    "    return feature_values"
   ]
  },
  {
   "cell_type": "code",
   "execution_count": 8,
   "id": "28adc90b",
   "metadata": {},
   "outputs": [
    {
     "data": {
      "text/html": [
       "<div>\n",
       "<style scoped>\n",
       "    .dataframe tbody tr th:only-of-type {\n",
       "        vertical-align: middle;\n",
       "    }\n",
       "\n",
       "    .dataframe tbody tr th {\n",
       "        vertical-align: top;\n",
       "    }\n",
       "\n",
       "    .dataframe thead th {\n",
       "        text-align: right;\n",
       "    }\n",
       "</style>\n",
       "<table border=\"1\" class=\"dataframe\">\n",
       "  <thead>\n",
       "    <tr style=\"text-align: right;\">\n",
       "      <th></th>\n",
       "      <th>transaction_id</th>\n",
       "      <th>amount</th>\n",
       "      <th>receiver_first</th>\n",
       "      <th>receiver_middle</th>\n",
       "      <th>receiver_last_name</th>\n",
       "      <th>sender_first</th>\n",
       "      <th>sender_middle</th>\n",
       "      <th>sender_last_name</th>\n",
       "      <th>transaction_id</th>\n",
       "      <th>sender_address</th>\n",
       "    </tr>\n",
       "  </thead>\n",
       "  <tbody>\n",
       "    <tr>\n",
       "      <th>0</th>\n",
       "      <td>8547824728</td>\n",
       "      <td>41</td>\n",
       "      <td>thomas</td>\n",
       "      <td>NaN</td>\n",
       "      <td>NaN</td>\n",
       "      <td>NaN</td>\n",
       "      <td>martin</td>\n",
       "      <td>NaN</td>\n",
       "      <td>NaN</td>\n",
       "      <td>NaN</td>\n",
       "    </tr>\n",
       "    <tr>\n",
       "      <th>1</th>\n",
       "      <td>7025423499</td>\n",
       "      <td>41</td>\n",
       "      <td>NaN</td>\n",
       "      <td>NaN</td>\n",
       "      <td>luke</td>\n",
       "      <td>NaN</td>\n",
       "      <td>NaN</td>\n",
       "      <td>stev</td>\n",
       "      <td>NaN</td>\n",
       "      <td>NaN</td>\n",
       "    </tr>\n",
       "    <tr>\n",
       "      <th>2</th>\n",
       "      <td>9562348628</td>\n",
       "      <td>41</td>\n",
       "      <td>NaN</td>\n",
       "      <td>NaN</td>\n",
       "      <td>meri</td>\n",
       "      <td>NaN</td>\n",
       "      <td>NaN</td>\n",
       "      <td>NaN</td>\n",
       "      <td>NaN</td>\n",
       "      <td>NaN</td>\n",
       "    </tr>\n",
       "  </tbody>\n",
       "</table>\n",
       "</div>"
      ],
      "text/plain": [
       "  transaction_id amount receiver_first receiver_middle receiver_last_name  \\\n",
       "0     8547824728     41         thomas             NaN                NaN   \n",
       "1     7025423499     41            NaN             NaN               luke   \n",
       "2     9562348628     41            NaN             NaN               meri   \n",
       "\n",
       "  sender_first sender_middle sender_last_name transaction_id sender_address  \n",
       "0          NaN        martin              NaN            NaN            NaN  \n",
       "1          NaN           NaN             stev            NaN            NaN  \n",
       "2          NaN           NaN              NaN            NaN            NaN  "
      ]
     },
     "execution_count": 8,
     "metadata": {},
     "output_type": "execute_result"
    }
   ],
   "source": [
    "# creating the dataframe for each info-group features \n",
    "import pandas as pd \n",
    "df1 = pd.DataFrame(get_features('additional_info',additional_infos))\n",
    "df2 = pd.DataFrame(get_features('receiver',receiver_infos))\n",
    "df3 = pd.DataFrame(get_features('sender',sender_infos))\n",
    "df = pd.concat([df1,df2,df3],axis = 1)\n",
    "df"
   ]
  },
  {
   "cell_type": "code",
   "execution_count": null,
   "id": "6cc5abd6",
   "metadata": {},
   "outputs": [],
   "source": []
  },
  {
   "cell_type": "code",
   "execution_count": null,
   "id": "c7b6220a",
   "metadata": {},
   "outputs": [],
   "source": []
  },
  {
   "cell_type": "code",
   "execution_count": null,
   "id": "68e6649a",
   "metadata": {},
   "outputs": [],
   "source": []
  },
  {
   "cell_type": "code",
   "execution_count": null,
   "id": "bb75bbea",
   "metadata": {},
   "outputs": [],
   "source": []
  },
  {
   "cell_type": "code",
   "execution_count": null,
   "id": "672310e4",
   "metadata": {},
   "outputs": [],
   "source": []
  }
 ],
 "metadata": {
  "kernelspec": {
   "display_name": "Python 3 (ipykernel)",
   "language": "python",
   "name": "python3"
  },
  "language_info": {
   "codemirror_mode": {
    "name": "ipython",
    "version": 3
   },
   "file_extension": ".py",
   "mimetype": "text/x-python",
   "name": "python",
   "nbconvert_exporter": "python",
   "pygments_lexer": "ipython3",
   "version": "3.9.7"
  }
 },
 "nbformat": 4,
 "nbformat_minor": 5
}
