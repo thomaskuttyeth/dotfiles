{
  "nbformat": 4,
  "nbformat_minor": 0,
  "metadata": {
    "colab": {
      "name": "pyspark.ipynb",
      "provenance": [],
      "collapsed_sections": [],
      "mount_file_id": "1pMLbKZg9eSqjKDkVyAJ-jK6z0QcFMrOL",
      "authorship_tag": "ABX9TyN90x7pD76VNgjvRAVl95tq",
      "include_colab_link": true
    },
    "kernelspec": {
      "name": "python3",
      "display_name": "Python 3"
    },
    "language_info": {
      "name": "python"
    }
  },
  "cells": [
    {
      "cell_type": "markdown",
      "metadata": {
        "id": "view-in-github",
        "colab_type": "text"
      },
      "source": [
        "<a href=\"https://colab.research.google.com/github/ThomasK13/dotfiles/blob/main/pyspark.ipynb\" target=\"_parent\"><img src=\"https://colab.research.google.com/assets/colab-badge.svg\" alt=\"Open In Colab\"/></a>"
      ]
    },
    {
      "cell_type": "markdown",
      "source": [
        "## Starting Spark session"
      ],
      "metadata": {
        "id": "iv-C67M_lZ60"
      }
    },
    {
      "cell_type": "code",
      "source": [
        "import pyspark\n",
        "from pyspark.sql import SparkSession\n",
        "spark = SparkSession.builder.appName('DataFrame').getOrCreate()"
      ],
      "metadata": {
        "id": "7El1TCIOjVES"
      },
      "execution_count": 40,
      "outputs": []
    },
    {
      "cell_type": "markdown",
      "source": [
        "## Reading the data"
      ],
      "metadata": {
        "id": "JvU4wx7PlgZ2"
      }
    },
    {
      "cell_type": "code",
      "source": [
        "orders_datapath = '/content/drive/MyDrive/dataset/orders.csv'\n",
        "orders_df = spark.read.csv(\n",
        "    orders_datapath,\n",
        "    header = True, \n",
        "    inferSchema = True)\n",
        "orders = orders_df.select('Order Date','City','Product Name','Sales','Quantity','Discount','Profit')\n",
        "orders.show()"
      ],
      "metadata": {
        "colab": {
          "base_uri": "https://localhost:8080/"
        },
        "id": "iVUbEAr1lCGv",
        "outputId": "45d97502-5679-4d53-fb28-7d83bf860382"
      },
      "execution_count": 52,
      "outputs": [
        {
          "output_type": "stream",
          "name": "stdout",
          "text": [
            "+----------+-------------+--------------------+--------+--------+--------+----------+\n",
            "|Order Date|         City|        Product Name|   Sales|Quantity|Discount|    Profit|\n",
            "+----------+-------------+--------------------+--------+--------+--------+----------+\n",
            "|31-07-2012|New York City|Plantronics CS510...| 2309.65|       7|       0|  762.1845|\n",
            "|05-02-2013|   Wollongong|Novimex Executive...|3709.395|       9|     0.1|  -288.765|\n",
            "|17-10-2013|     Brisbane|Nokia Smart Phone...|5175.171|       9|     0.1|   919.971|\n",
            "|28-01-2013|       Berlin|Motorola Smart Ph...| 2892.51|       5|     0.1|    -96.54|\n",
            "|05-11-2013|        Dakar|Sharp Wireless Fa...| 2832.96|       8|       0|    311.52|\n",
            "|28-06-2013|       Sydney|Samsung Smart Pho...|2862.675|       5|     0.1|   763.275|\n",
            "|07-11-2011|      Porirua|Novimex Executive...| 1822.08|       4|       0|    564.84|\n",
            "|14-04-2012|     Hamilton|Chromcraft Confer...| 5244.84|       6|       0|    996.48|\n",
            "|14-10-2014|   Sacramento|Fellowes PB500 El...| 5083.96|       5|     0.2|  1906.485|\n",
            "|28-01-2012|      Concord|Chromcraft Bull-N...|4297.644|      13|     0.4|-1862.3124|\n",
            "|05-04-2011|   Alexandria|Martin Yale Chadl...| 4164.05|       5|       0|    83.281|\n",
            "|19-04-2012|        Kabul|Bevis Conference ...| 4626.15|       5|       0|    647.55|\n",
            "|27-12-2011|        Jizan|Cisco Smart Phone...| 2616.96|       4|       0|    1151.4|\n",
            "|13-11-2012|       Toledo|Harbour Creations...|  2221.8|       7|       0|    622.02|\n",
            "|06-06-2013|   Mudanjiang|KitchenAid Microw...| 3701.52|      12|       0|   1036.08|\n",
            "|31-07-2014|        Paris|Breville Refriger...|1869.588|       4|     0.1|   186.948|\n",
            "|03-11-2014|    Henderson|Logitech diNovo E...| 2249.91|       9|       0|  517.4793|\n",
            "|08-09-2014|        Prato|   Hoover Stove, Red| 7958.58|      14|       0|   3979.08|\n",
            "|31-01-2014|   Townsville|Brother Fax Machi...|2565.594|       9|     0.1|    28.404|\n",
            "|05-12-2014|       Uvinza|KitchenAid Stove,...| 3409.74|       6|       0|    818.28|\n",
            "+----------+-------------+--------------------+--------+--------+--------+----------+\n",
            "only showing top 20 rows\n",
            "\n"
          ]
        }
      ]
    },
    {
      "cell_type": "code",
      "source": [
        "orders.printSchema()"
      ],
      "metadata": {
        "colab": {
          "base_uri": "https://localhost:8080/"
        },
        "id": "CGiHC1QTnC4r",
        "outputId": "52613bb6-a00a-4a49-ca8c-ceb76f33e0d3"
      },
      "execution_count": 53,
      "outputs": [
        {
          "output_type": "stream",
          "name": "stdout",
          "text": [
            "root\n",
            " |-- Order Date: string (nullable = true)\n",
            " |-- City: string (nullable = true)\n",
            " |-- Product Name: string (nullable = true)\n",
            " |-- Sales: string (nullable = true)\n",
            " |-- Quantity: string (nullable = true)\n",
            " |-- Discount: string (nullable = true)\n",
            " |-- Profit: double (nullable = true)\n",
            "\n"
          ]
        }
      ]
    },
    {
      "cell_type": "markdown",
      "source": [
        "## Selecting Columns"
      ],
      "metadata": {
        "id": "hnnHezzrnsfT"
      }
    },
    {
      "cell_type": "code",
      "source": [
        "cols = orders.columns\n",
        "print(cols)"
      ],
      "metadata": {
        "colab": {
          "base_uri": "https://localhost:8080/"
        },
        "id": "3FpA_Ml6nP0Y",
        "outputId": "6bc83964-05c0-49bc-96e6-711229ceb615"
      },
      "execution_count": 54,
      "outputs": [
        {
          "output_type": "stream",
          "name": "stdout",
          "text": [
            "['Order Date', 'City', 'Product Name', 'Sales', 'Quantity', 'Discount', 'Profit']\n"
          ]
        }
      ]
    },
    {
      "cell_type": "code",
      "source": [
        "orders.select('City')"
      ],
      "metadata": {
        "colab": {
          "base_uri": "https://localhost:8080/"
        },
        "id": "HMHSzMlsoF_Q",
        "outputId": "a9ee21ca-3744-4eac-c87f-8ccd50110d06"
      },
      "execution_count": 56,
      "outputs": [
        {
          "output_type": "execute_result",
          "data": {
            "text/plain": [
              "DataFrame[City: string]"
            ]
          },
          "metadata": {},
          "execution_count": 56
        }
      ]
    },
    {
      "cell_type": "code",
      "source": [
        "orders.select('City').show()"
      ],
      "metadata": {
        "colab": {
          "base_uri": "https://localhost:8080/"
        },
        "id": "OBi26vw6nxRL",
        "outputId": "3bcbd2b5-3923-49aa-d0ff-dec8e9f76d35"
      },
      "execution_count": 57,
      "outputs": [
        {
          "output_type": "stream",
          "name": "stdout",
          "text": [
            "+-------------+\n",
            "|         City|\n",
            "+-------------+\n",
            "|New York City|\n",
            "|   Wollongong|\n",
            "|     Brisbane|\n",
            "|       Berlin|\n",
            "|        Dakar|\n",
            "|       Sydney|\n",
            "|      Porirua|\n",
            "|     Hamilton|\n",
            "|   Sacramento|\n",
            "|      Concord|\n",
            "|   Alexandria|\n",
            "|        Kabul|\n",
            "|        Jizan|\n",
            "|       Toledo|\n",
            "|   Mudanjiang|\n",
            "|        Paris|\n",
            "|    Henderson|\n",
            "|        Prato|\n",
            "|   Townsville|\n",
            "|       Uvinza|\n",
            "+-------------+\n",
            "only showing top 20 rows\n",
            "\n"
          ]
        }
      ]
    },
    {
      "cell_type": "markdown",
      "source": [
        "## Datatypes"
      ],
      "metadata": {
        "id": "cFJ1cMrrokiT"
      }
    },
    {
      "cell_type": "code",
      "source": [
        "orders.dtypes"
      ],
      "metadata": {
        "colab": {
          "base_uri": "https://localhost:8080/"
        },
        "id": "osyT39wYoN4c",
        "outputId": "8fb1ad88-ad99-468c-a054-0d9ba4ab902c"
      },
      "execution_count": 58,
      "outputs": [
        {
          "output_type": "execute_result",
          "data": {
            "text/plain": [
              "[('Order Date', 'string'),\n",
              " ('City', 'string'),\n",
              " ('Product Name', 'string'),\n",
              " ('Sales', 'string'),\n",
              " ('Quantity', 'string'),\n",
              " ('Discount', 'string'),\n",
              " ('Profit', 'double')]"
            ]
          },
          "metadata": {},
          "execution_count": 58
        }
      ]
    },
    {
      "cell_type": "markdown",
      "source": [
        "## Describing dataframe"
      ],
      "metadata": {
        "id": "XLlxJFg6opA5"
      }
    },
    {
      "cell_type": "code",
      "source": [
        "orders.describe()"
      ],
      "metadata": {
        "colab": {
          "base_uri": "https://localhost:8080/"
        },
        "id": "SgesuXmTohw0",
        "outputId": "f976877c-4d6d-4a6a-d5ea-8b89bf15b07a"
      },
      "execution_count": 59,
      "outputs": [
        {
          "output_type": "execute_result",
          "data": {
            "text/plain": [
              "DataFrame[summary: string, Order Date: string, City: string, Product Name: string, Sales: string, Quantity: string, Discount: string, Profit: string]"
            ]
          },
          "metadata": {},
          "execution_count": 59
        }
      ]
    },
    {
      "cell_type": "code",
      "source": [
        "orders.describe().show()"
      ],
      "metadata": {
        "colab": {
          "base_uri": "https://localhost:8080/"
        },
        "id": "F7AARAjyovKP",
        "outputId": "f1b514b6-f316-45a6-e8bb-f170dcb81f6e"
      },
      "execution_count": 60,
      "outputs": [
        {
          "output_type": "stream",
          "name": "stdout",
          "text": [
            "+-------+----------+--------------------+--------------------+------------------+-----------------+-------------------+------------------+\n",
            "|summary|Order Date|                City|        Product Name|             Sales|         Quantity|           Discount|            Profit|\n",
            "+-------+----------+--------------------+--------------------+------------------+-----------------+-------------------+------------------+\n",
            "|  count|     51290|               51290|               51290|             51290|            51290|              51290|             51290|\n",
            "|   mean|      null|                null|                null| 247.4554011743524|3.873090735322801|0.17393517814308795|28.597540880873463|\n",
            "| stddev|      null|                null|                null|488.71690163686037|11.48156812081264| 1.4763150260878761|174.37475086964483|\n",
            "|    min|01-01-2011|              Aachen|\"\"\"While you Were...|          10/Pack\"|     1040 sheets\"|            30/Box\"|         -6599.978|\n",
            "|    max|31-12-2014|�guas Lindas de G...|netTALK DUO VoIP ...|            999.98|           98.352|             98.352|          8399.976|\n",
            "+-------+----------+--------------------+--------------------+------------------+-----------------+-------------------+------------------+\n",
            "\n"
          ]
        }
      ]
    },
    {
      "cell_type": "markdown",
      "source": [
        "## Adding Columns and Droping Columns"
      ],
      "metadata": {
        "id": "HAhDcGw5o169"
      }
    },
    {
      "cell_type": "code",
      "source": [
        "# not an implice operations\n",
        "orders.withColumn('toal_amt',orders['Sales']+orders['Discount']).show()"
      ],
      "metadata": {
        "colab": {
          "base_uri": "https://localhost:8080/"
        },
        "id": "VwRYLspXoxfo",
        "outputId": "c4194fed-0e94-49f9-c861-571a2270a95d"
      },
      "execution_count": 62,
      "outputs": [
        {
          "output_type": "stream",
          "name": "stdout",
          "text": [
            "+----------+-------------+--------------------+--------+--------+--------+----------+------------------+\n",
            "|Order Date|         City|        Product Name|   Sales|Quantity|Discount|    Profit|          toal_amt|\n",
            "+----------+-------------+--------------------+--------+--------+--------+----------+------------------+\n",
            "|31-07-2012|New York City|Plantronics CS510...| 2309.65|       7|       0|  762.1845|           2309.65|\n",
            "|05-02-2013|   Wollongong|Novimex Executive...|3709.395|       9|     0.1|  -288.765|          3709.495|\n",
            "|17-10-2013|     Brisbane|Nokia Smart Phone...|5175.171|       9|     0.1|   919.971| 5175.271000000001|\n",
            "|28-01-2013|       Berlin|Motorola Smart Ph...| 2892.51|       5|     0.1|    -96.54|           2892.61|\n",
            "|05-11-2013|        Dakar|Sharp Wireless Fa...| 2832.96|       8|       0|    311.52|           2832.96|\n",
            "|28-06-2013|       Sydney|Samsung Smart Pho...|2862.675|       5|     0.1|   763.275|          2862.775|\n",
            "|07-11-2011|      Porirua|Novimex Executive...| 1822.08|       4|       0|    564.84|           1822.08|\n",
            "|14-04-2012|     Hamilton|Chromcraft Confer...| 5244.84|       6|       0|    996.48|           5244.84|\n",
            "|14-10-2014|   Sacramento|Fellowes PB500 El...| 5083.96|       5|     0.2|  1906.485|           5084.16|\n",
            "|28-01-2012|      Concord|Chromcraft Bull-N...|4297.644|      13|     0.4|-1862.3124|          4298.044|\n",
            "|05-04-2011|   Alexandria|Martin Yale Chadl...| 4164.05|       5|       0|    83.281|           4164.05|\n",
            "|19-04-2012|        Kabul|Bevis Conference ...| 4626.15|       5|       0|    647.55|           4626.15|\n",
            "|27-12-2011|        Jizan|Cisco Smart Phone...| 2616.96|       4|       0|    1151.4|           2616.96|\n",
            "|13-11-2012|       Toledo|Harbour Creations...|  2221.8|       7|       0|    622.02|            2221.8|\n",
            "|06-06-2013|   Mudanjiang|KitchenAid Microw...| 3701.52|      12|       0|   1036.08|           3701.52|\n",
            "|31-07-2014|        Paris|Breville Refriger...|1869.588|       4|     0.1|   186.948|1869.6879999999999|\n",
            "|03-11-2014|    Henderson|Logitech diNovo E...| 2249.91|       9|       0|  517.4793|           2249.91|\n",
            "|08-09-2014|        Prato|   Hoover Stove, Red| 7958.58|      14|       0|   3979.08|           7958.58|\n",
            "|31-01-2014|   Townsville|Brother Fax Machi...|2565.594|       9|     0.1|    28.404|          2565.694|\n",
            "|05-12-2014|       Uvinza|KitchenAid Stove,...| 3409.74|       6|       0|    818.28|           3409.74|\n",
            "+----------+-------------+--------------------+--------+--------+--------+----------+------------------+\n",
            "only showing top 20 rows\n",
            "\n"
          ]
        }
      ]
    },
    {
      "cell_type": "code",
      "source": [
        "orders.drop('Order Date','Sales').show()"
      ],
      "metadata": {
        "colab": {
          "base_uri": "https://localhost:8080/"
        },
        "id": "CvjWMiLcpKbJ",
        "outputId": "a010360a-e45b-4db3-df6e-7b1a6fb07eb0"
      },
      "execution_count": 64,
      "outputs": [
        {
          "output_type": "stream",
          "name": "stdout",
          "text": [
            "+-------------+--------------------+--------+--------+----------+\n",
            "|         City|        Product Name|Quantity|Discount|    Profit|\n",
            "+-------------+--------------------+--------+--------+----------+\n",
            "|New York City|Plantronics CS510...|       7|       0|  762.1845|\n",
            "|   Wollongong|Novimex Executive...|       9|     0.1|  -288.765|\n",
            "|     Brisbane|Nokia Smart Phone...|       9|     0.1|   919.971|\n",
            "|       Berlin|Motorola Smart Ph...|       5|     0.1|    -96.54|\n",
            "|        Dakar|Sharp Wireless Fa...|       8|       0|    311.52|\n",
            "|       Sydney|Samsung Smart Pho...|       5|     0.1|   763.275|\n",
            "|      Porirua|Novimex Executive...|       4|       0|    564.84|\n",
            "|     Hamilton|Chromcraft Confer...|       6|       0|    996.48|\n",
            "|   Sacramento|Fellowes PB500 El...|       5|     0.2|  1906.485|\n",
            "|      Concord|Chromcraft Bull-N...|      13|     0.4|-1862.3124|\n",
            "|   Alexandria|Martin Yale Chadl...|       5|       0|    83.281|\n",
            "|        Kabul|Bevis Conference ...|       5|       0|    647.55|\n",
            "|        Jizan|Cisco Smart Phone...|       4|       0|    1151.4|\n",
            "|       Toledo|Harbour Creations...|       7|       0|    622.02|\n",
            "|   Mudanjiang|KitchenAid Microw...|      12|       0|   1036.08|\n",
            "|        Paris|Breville Refriger...|       4|     0.1|   186.948|\n",
            "|    Henderson|Logitech diNovo E...|       9|       0|  517.4793|\n",
            "|        Prato|   Hoover Stove, Red|      14|       0|   3979.08|\n",
            "|   Townsville|Brother Fax Machi...|       9|     0.1|    28.404|\n",
            "|       Uvinza|KitchenAid Stove,...|       6|       0|    818.28|\n",
            "+-------------+--------------------+--------+--------+----------+\n",
            "only showing top 20 rows\n",
            "\n"
          ]
        }
      ]
    },
    {
      "cell_type": "markdown",
      "source": [
        "## Renaming the columns"
      ],
      "metadata": {
        "id": "mGxGJnhiqYEn"
      }
    },
    {
      "cell_type": "code",
      "source": [
        "orders.withColumnRenamed('Sales','Amount').show()"
      ],
      "metadata": {
        "colab": {
          "base_uri": "https://localhost:8080/"
        },
        "id": "VF54RSm9qB_j",
        "outputId": "2e707977-fa2f-44b7-deef-cb06d7d3984b"
      },
      "execution_count": 65,
      "outputs": [
        {
          "output_type": "stream",
          "name": "stdout",
          "text": [
            "+----------+-------------+--------------------+--------+--------+--------+----------+\n",
            "|Order Date|         City|        Product Name|  Amount|Quantity|Discount|    Profit|\n",
            "+----------+-------------+--------------------+--------+--------+--------+----------+\n",
            "|31-07-2012|New York City|Plantronics CS510...| 2309.65|       7|       0|  762.1845|\n",
            "|05-02-2013|   Wollongong|Novimex Executive...|3709.395|       9|     0.1|  -288.765|\n",
            "|17-10-2013|     Brisbane|Nokia Smart Phone...|5175.171|       9|     0.1|   919.971|\n",
            "|28-01-2013|       Berlin|Motorola Smart Ph...| 2892.51|       5|     0.1|    -96.54|\n",
            "|05-11-2013|        Dakar|Sharp Wireless Fa...| 2832.96|       8|       0|    311.52|\n",
            "|28-06-2013|       Sydney|Samsung Smart Pho...|2862.675|       5|     0.1|   763.275|\n",
            "|07-11-2011|      Porirua|Novimex Executive...| 1822.08|       4|       0|    564.84|\n",
            "|14-04-2012|     Hamilton|Chromcraft Confer...| 5244.84|       6|       0|    996.48|\n",
            "|14-10-2014|   Sacramento|Fellowes PB500 El...| 5083.96|       5|     0.2|  1906.485|\n",
            "|28-01-2012|      Concord|Chromcraft Bull-N...|4297.644|      13|     0.4|-1862.3124|\n",
            "|05-04-2011|   Alexandria|Martin Yale Chadl...| 4164.05|       5|       0|    83.281|\n",
            "|19-04-2012|        Kabul|Bevis Conference ...| 4626.15|       5|       0|    647.55|\n",
            "|27-12-2011|        Jizan|Cisco Smart Phone...| 2616.96|       4|       0|    1151.4|\n",
            "|13-11-2012|       Toledo|Harbour Creations...|  2221.8|       7|       0|    622.02|\n",
            "|06-06-2013|   Mudanjiang|KitchenAid Microw...| 3701.52|      12|       0|   1036.08|\n",
            "|31-07-2014|        Paris|Breville Refriger...|1869.588|       4|     0.1|   186.948|\n",
            "|03-11-2014|    Henderson|Logitech diNovo E...| 2249.91|       9|       0|  517.4793|\n",
            "|08-09-2014|        Prato|   Hoover Stove, Red| 7958.58|      14|       0|   3979.08|\n",
            "|31-01-2014|   Townsville|Brother Fax Machi...|2565.594|       9|     0.1|    28.404|\n",
            "|05-12-2014|       Uvinza|KitchenAid Stove,...| 3409.74|       6|       0|    818.28|\n",
            "+----------+-------------+--------------------+--------+--------+--------+----------+\n",
            "only showing top 20 rows\n",
            "\n"
          ]
        }
      ]
    },
    {
      "cell_type": "markdown",
      "source": [
        "## Handling missing values"
      ],
      "metadata": {
        "id": "8KCnejNrq6CA"
      }
    },
    {
      "cell_type": "code",
      "source": [
        ""
      ],
      "metadata": {
        "id": "ERjnBOANqmS7"
      },
      "execution_count": 65,
      "outputs": []
    },
    {
      "cell_type": "code",
      "source": [
        ""
      ],
      "metadata": {
        "id": "t-WjoqqHyYJ6"
      },
      "execution_count": 65,
      "outputs": []
    },
    {
      "cell_type": "code",
      "source": [
        ""
      ],
      "metadata": {
        "id": "rVsYZkq-ynUK"
      },
      "execution_count": null,
      "outputs": []
    }
  ]
}