{
  "nbformat": 4,
  "nbformat_minor": 0,
  "metadata": {
    "colab": {
      "name": "pyspark.ipynb",
      "provenance": [],
      "collapsed_sections": [],
      "mount_file_id": "1pMLbKZg9eSqjKDkVyAJ-jK6z0QcFMrOL",
      "authorship_tag": "ABX9TyNRhRH5UOOZ0UCbN0bVyIUx"
    },
    "kernelspec": {
      "name": "python3",
      "display_name": "Python 3"
    },
    "language_info": {
      "name": "python"
    }
  },
  "cells": [
    {
      "cell_type": "markdown",
      "source": [
        "## Starting Spark session"
      ],
      "metadata": {
        "id": "iv-C67M_lZ60"
      }
    },
    {
      "cell_type": "code",
      "source": [
        "import pyspark\n",
        "from pyspark.sql import SparkSession\n",
        "spark = SparkSession.builder.appName('DataFrame').getOrCreate()"
      ],
      "metadata": {
        "id": "7El1TCIOjVES"
      },
      "execution_count": 5,
      "outputs": []
    },
    {
      "cell_type": "markdown",
      "source": [
        "## Reading the data"
      ],
      "metadata": {
        "id": "JvU4wx7PlgZ2"
      }
    },
    {
      "cell_type": "code",
      "source": [
        "# reading csv file with headers\n",
        "data_path = \"/content/drive/MyDrive/dataset/netflix_titles.csv\"\n",
        "data = spark.read.option('header','true').csv(data_path, inferSchema=True)"
      ],
      "metadata": {
        "id": "WFGypAbtjm87"
      },
      "execution_count": 11,
      "outputs": []
    },
    {
      "cell_type": "code",
      "source": [
        "data.show()"
      ],
      "metadata": {
        "colab": {
          "base_uri": "https://localhost:8080/"
        },
        "id": "ykxkAeq4kvZp",
        "outputId": "993e1555-d9db-4981-8c3a-3c63cb6a172b"
      },
      "execution_count": 12,
      "outputs": [
        {
          "output_type": "stream",
          "name": "stdout",
          "text": [
            "+-------+-------+--------------------+--------------------+--------------------+--------------------+------------------+------------+------+---------+--------------------+--------------------+\n",
            "|show_id|   type|               title|            director|                cast|             country|        date_added|release_year|rating| duration|           listed_in|         description|\n",
            "+-------+-------+--------------------+--------------------+--------------------+--------------------+------------------+------------+------+---------+--------------------+--------------------+\n",
            "|     s1|  Movie|Dick Johnson Is Dead|     Kirsten Johnson|                null|       United States|September 25, 2021|        2020| PG-13|   90 min|       Documentaries|As her father nea...|\n",
            "|     s2|TV Show|       Blood & Water|                null|Ama Qamata, Khosi...|        South Africa|September 24, 2021|        2021| TV-MA|2 Seasons|International TV ...|After crossing pa...|\n",
            "|     s3|TV Show|           Ganglands|     Julien Leclercq|Sami Bouajila, Tr...|                null|September 24, 2021|        2021| TV-MA| 1 Season|Crime TV Shows, I...|To protect his fa...|\n",
            "|     s4|TV Show|Jailbirds New Orl...|                null|                null|                null|September 24, 2021|        2021| TV-MA| 1 Season|Docuseries, Reali...|Feuds, flirtation...|\n",
            "|     s5|TV Show|        Kota Factory|                null|Mayur More, Jiten...|               India|September 24, 2021|        2021| TV-MA|2 Seasons|International TV ...|In a city of coac...|\n",
            "|     s6|TV Show|       Midnight Mass|       Mike Flanagan|Kate Siegel, Zach...|                null|September 24, 2021|        2021| TV-MA| 1 Season|TV Dramas, TV Hor...|The arrival of a ...|\n",
            "|     s7|  Movie|My Little Pony: A...|Robert Cullen, Jo...|Vanessa Hudgens, ...|                null|September 24, 2021|        2021|    PG|   91 min|Children & Family...|Equestria's divid...|\n",
            "|     s8|  Movie|             Sankofa|        Haile Gerima|Kofi Ghanaba, Oya...|United States, Gh...|September 24, 2021|        1993| TV-MA|  125 min|Dramas, Independe...|On a photo shoot ...|\n",
            "|     s9|TV Show|The Great British...|     Andy Devonshire|Mel Giedroyc, Sue...|      United Kingdom|September 24, 2021|        2021| TV-14|9 Seasons|British TV Shows,...|A talented batch ...|\n",
            "|    s10|  Movie|        The Starling|      Theodore Melfi|Melissa McCarthy,...|       United States|September 24, 2021|        2021| PG-13|  104 min|    Comedies, Dramas|A woman adjusting...|\n",
            "|    s11|TV Show|Vendetta: Truth, ...|                null|                null|                null|September 24, 2021|        2021| TV-MA| 1 Season|Crime TV Shows, D...|\"Sicily boasts a ...|\n",
            "|    s12|TV Show|    Bangkok Breaking|   Kongkiat Komesiri|Sukollawat Kanaro...|                null|September 23, 2021|        2021| TV-MA| 1 Season|Crime TV Shows, I...|Struggling to ear...|\n",
            "|    s13|  Movie|        Je Suis Karl| Christian Schwochow|Luna Wedler, Jann...|Germany, Czech Re...|September 23, 2021|        2021| TV-MA|  127 min|Dramas, Internati...|After most of her...|\n",
            "|    s14|  Movie|Confessions of an...|       Bruno Garotti|Klara Castanho, L...|                null|September 22, 2021|        2021| TV-PG|   91 min|Children & Family...|When the clever b...|\n",
            "|    s15|TV Show|Crime Stories: In...|                null|                null|                null|September 22, 2021|        2021| TV-MA| 1 Season|British TV Shows,...|Cameras following...|\n",
            "|    s16|TV Show|   Dear White People|                null|Logan Browning, B...|       United States|September 22, 2021|        2021| TV-MA|4 Seasons|TV Comedies, TV D...|\"Students of colo...|\n",
            "|    s17|  Movie|Europe's Most Dan...|Pedro de Echave G...|                null|                null|September 22, 2021|        2020| TV-MA|   67 min|Documentaries, In...|Declassified docu...|\n",
            "|    s18|TV Show|     Falsa identidad|                null|Luis Ernesto Fran...|              Mexico|September 22, 2021|        2020| TV-MA|2 Seasons|Crime TV Shows, S...|Strangers Diego a...|\n",
            "|    s19|  Movie|           Intrusion|          Adam Salky|Freida Pinto, Log...|                null|September 22, 2021|        2021| TV-14|   94 min|           Thrillers|After a deadly ho...|\n",
            "|    s20|TV Show|              Jaguar|                null|Blanca Suárez, Iv...|                null|September 22, 2021|        2021| TV-MA| 1 Season|International TV ...|In the 1960s, a H...|\n",
            "+-------+-------+--------------------+--------------------+--------------------+--------------------+------------------+------------+------+---------+--------------------+--------------------+\n",
            "only showing top 20 rows\n",
            "\n"
          ]
        }
      ]
    },
    {
      "cell_type": "code",
      "source": [
        "type(data)"
      ],
      "metadata": {
        "colab": {
          "base_uri": "https://localhost:8080/"
        },
        "id": "l5LrKBqAkokP",
        "outputId": "ed9c7f97-eac9-459c-93f1-27aa72428463"
      },
      "execution_count": 13,
      "outputs": [
        {
          "output_type": "execute_result",
          "data": {
            "text/plain": [
              "pyspark.sql.dataframe.DataFrame"
            ]
          },
          "metadata": {},
          "execution_count": 13
        }
      ]
    },
    {
      "cell_type": "code",
      "source": [
        "# viewing the top rows\n",
        "data.head(3)"
      ],
      "metadata": {
        "colab": {
          "base_uri": "https://localhost:8080/"
        },
        "id": "hyt-gu01k5T5",
        "outputId": "39922ad9-8f44-4666-b4f8-8daa0d4457fb"
      },
      "execution_count": 14,
      "outputs": [
        {
          "output_type": "execute_result",
          "data": {
            "text/plain": [
              "[Row(show_id='s1', type='Movie', title='Dick Johnson Is Dead', director='Kirsten Johnson', cast=None, country='United States', date_added='September 25, 2021', release_year='2020', rating='PG-13', duration='90 min', listed_in='Documentaries', description='As her father nears the end of his life, filmmaker Kirsten Johnson stages his death in inventive and comical ways to help them both face the inevitable.'),\n",
              " Row(show_id='s2', type='TV Show', title='Blood & Water', director=None, cast='Ama Qamata, Khosi Ngema, Gail Mabalane, Thabang Molaba, Dillon Windvogel, Natasha Thahane, Arno Greeff, Xolile Tshabalala, Getmore Sithole, Cindy Mahlangu, Ryle De Morny, Greteli Fincham, Sello Maake Ka-Ncube, Odwa Gwanya, Mekaila Mathys, Sandi Schultz, Duane Williams, Shamilla Miller, Patrick Mofokeng', country='South Africa', date_added='September 24, 2021', release_year='2021', rating='TV-MA', duration='2 Seasons', listed_in='International TV Shows, TV Dramas, TV Mysteries', description='After crossing paths at a party, a Cape Town teen sets out to prove whether a private-school swimming star is her sister who was abducted at birth.'),\n",
              " Row(show_id='s3', type='TV Show', title='Ganglands', director='Julien Leclercq', cast='Sami Bouajila, Tracy Gotoas, Samuel Jouy, Nabiha Akkari, Sofia Lesaffre, Salim Kechiouche, Noureddine Farihi, Geert Van Rampelberg, Bakary Diombera', country=None, date_added='September 24, 2021', release_year='2021', rating='TV-MA', duration='1 Season', listed_in='Crime TV Shows, International TV Shows, TV Action & Adventure', description='To protect his family from a powerful drug lord, skilled thief Mehdi and his expert team of robbers are pulled into a violent and deadly turf war.')]"
            ]
          },
          "metadata": {},
          "execution_count": 14
        }
      ]
    },
    {
      "cell_type": "code",
      "source": [
        "# getting the schema \n",
        "data.printSchema()"
      ],
      "metadata": {
        "colab": {
          "base_uri": "https://localhost:8080/"
        },
        "id": "3EnejTa5k9dy",
        "outputId": "a08dc3fb-c919-41c8-cd7d-0c032c1bba3f"
      },
      "execution_count": 15,
      "outputs": [
        {
          "output_type": "stream",
          "name": "stdout",
          "text": [
            "root\n",
            " |-- show_id: string (nullable = true)\n",
            " |-- type: string (nullable = true)\n",
            " |-- title: string (nullable = true)\n",
            " |-- director: string (nullable = true)\n",
            " |-- cast: string (nullable = true)\n",
            " |-- country: string (nullable = true)\n",
            " |-- date_added: string (nullable = true)\n",
            " |-- release_year: string (nullable = true)\n",
            " |-- rating: string (nullable = true)\n",
            " |-- duration: string (nullable = true)\n",
            " |-- listed_in: string (nullable = true)\n",
            " |-- description: string (nullable = true)\n",
            "\n"
          ]
        }
      ]
    },
    {
      "cell_type": "code",
      "source": [
        "orders_datapath = '/content/drive/MyDrive/dataset/orders.csv'\n",
        "orders_df = spark.read.csv(\n",
        "    orders_datapath,\n",
        "    header = True, \n",
        "    inferSchema = True)\n",
        "orders_df.show()"
      ],
      "metadata": {
        "colab": {
          "base_uri": "https://localhost:8080/"
        },
        "id": "iVUbEAr1lCGv",
        "outputId": "ffedf3f4-75e1-43b8-b9b6-97aabc03b7a9"
      },
      "execution_count": 17,
      "outputs": [
        {
          "output_type": "stream",
          "name": "stdout",
          "text": [
            "+------+---------------+----------+----------+--------------+-----------+----------------+-----------+-------------+---------------+-------------+-----------+------+------------+----------------+---------------+------------+--------------------+--------+--------+--------+----------+-------------+--------------+\n",
            "|Row ID|       Order ID|Order Date| Ship Date|     Ship Mode|Customer ID|   Customer Name|    Segment|         City|          State|      Country|Postal Code|Market|      Region|      Product ID|       Category|Sub-Category|        Product Name|   Sales|Quantity|Discount|    Profit|Shipping Cost|Order Priority|\n",
            "+------+---------------+----------+----------+--------------+-----------+----------------+-----------+-------------+---------------+-------------+-----------+------+------------+----------------+---------------+------------+--------------------+--------+--------+--------+----------+-------------+--------------+\n",
            "| 32298| CA-2012-124891|31-07-2012|31-07-2012|      Same Day|   RH-19495|     Rick Hansen|   Consumer|New York City|       New York|United States|      10024|    US|        East| TEC-AC-10003033|     Technology| Accessories|Plantronics CS510...| 2309.65|       7|       0|  762.1845|       933.57|      Critical|\n",
            "| 26341|  IN-2013-77878|05-02-2013|07-02-2013|  Second Class|   JR-16210|   Justin Ritter|  Corporate|   Wollongong|New South Wales|    Australia|       null|  APAC|     Oceania| FUR-CH-10003950|      Furniture|      Chairs|Novimex Executive...|3709.395|       9|     0.1|  -288.765|       923.63|      Critical|\n",
            "| 25330|  IN-2013-71249|17-10-2013|18-10-2013|   First Class|   CR-12730|    Craig Reiter|   Consumer|     Brisbane|     Queensland|    Australia|       null|  APAC|     Oceania| TEC-PH-10004664|     Technology|      Phones|Nokia Smart Phone...|5175.171|       9|     0.1|   919.971|       915.49|        Medium|\n",
            "| 13524|ES-2013-1579342|28-01-2013|30-01-2013|   First Class|   KM-16375|Katherine Murray|Home Office|       Berlin|         Berlin|      Germany|       null|    EU|     Central| TEC-PH-10004583|     Technology|      Phones|Motorola Smart Ph...| 2892.51|       5|     0.1|    -96.54|       910.16|        Medium|\n",
            "| 47221|   SG-2013-4320|05-11-2013|06-11-2013|      Same Day|    RH-9495|     Rick Hansen|   Consumer|        Dakar|          Dakar|      Senegal|       null|Africa|      Africa|TEC-SHA-10000501|     Technology|     Copiers|Sharp Wireless Fa...| 2832.96|       8|       0|    311.52|       903.04|      Critical|\n",
            "| 22732|  IN-2013-42360|28-06-2013|01-07-2013|  Second Class|   JM-15655|     Jim Mitchum|  Corporate|       Sydney|New South Wales|    Australia|       null|  APAC|     Oceania| TEC-PH-10000030|     Technology|      Phones|Samsung Smart Pho...|2862.675|       5|     0.1|   763.275|       897.35|      Critical|\n",
            "| 30570|  IN-2011-81826|07-11-2011|09-11-2011|   First Class|   TS-21340|   Toby Swindell|   Consumer|      Porirua|     Wellington|  New Zealand|       null|  APAC|     Oceania| FUR-CH-10004050|      Furniture|      Chairs|Novimex Executive...| 1822.08|       4|       0|    564.84|       894.77|      Critical|\n",
            "| 31192|  IN-2012-86369|14-04-2012|18-04-2012|Standard Class|   MB-18085|      Mick Brown|   Consumer|     Hamilton|        Waikato|  New Zealand|       null|  APAC|     Oceania| FUR-TA-10002958|      Furniture|      Tables|Chromcraft Confer...| 5244.84|       6|       0|    996.48|       878.38|          High|\n",
            "| 40155| CA-2014-135909|14-10-2014|21-10-2014|Standard Class|   JW-15220|       Jane Waco|  Corporate|   Sacramento|     California|United States|      95823|    US|        West| OFF-BI-10003527|Office Supplies|     Binders|Fellowes PB500 El...| 5083.96|       5|     0.2|  1906.485|       867.69|           Low|\n",
            "| 40936| CA-2012-116638|28-01-2012|31-01-2012|  Second Class|   JH-15985|     Joseph Holt|   Consumer|      Concord| North Carolina|United States|      28027|    US|       South| FUR-TA-10000198|      Furniture|      Tables|Chromcraft Bull-N...|4297.644|      13|     0.4|-1862.3124|       865.74|      Critical|\n",
            "| 34577| CA-2011-102988|05-04-2011|09-04-2011|  Second Class|   GM-14695|    Greg Maxwell|  Corporate|   Alexandria|       Virginia|United States|      22304|    US|       South| OFF-SU-10002881|Office Supplies|    Supplies|Martin Yale Chadl...| 4164.05|       5|       0|    83.281|       846.54|          High|\n",
            "| 28879|  ID-2012-28402|19-04-2012|22-04-2012|   First Class|   AJ-10780|  Anthony Jacobs|  Corporate|        Kabul|          Kabul|  Afghanistan|       null|  APAC|Central Asia| FUR-TA-10001889|      Furniture|      Tables|Bevis Conference ...| 4626.15|       5|       0|    647.55|       835.57|          High|\n",
            "| 45794|   SA-2011-1830|27-12-2011|29-12-2011|  Second Class|    MM-7260| Magdelene Morse|   Consumer|        Jizan|          Jizan| Saudi Arabia|       null|  EMEA|        EMEA|TEC-CIS-10001717|     Technology|      Phones|Cisco Smart Phone...| 2616.96|       4|       0|    1151.4|       832.41|      Critical|\n",
            "|  4132| MX-2012-130015|13-11-2012|13-11-2012|      Same Day|   VF-21715|  Vicky Freymann|Home Office|       Toledo|         Parana|       Brazil|       null| LATAM|       South| FUR-CH-10002033|      Furniture|      Chairs|Harbour Creations...|  2221.8|       7|       0|    622.02|       810.25|      Critical|\n",
            "| 27704|  IN-2013-73951|06-06-2013|08-06-2013|  Second Class|   PF-19120|    Peter Fuller|   Consumer|   Mudanjiang|   Heilongjiang|        China|       null|  APAC|  North Asia| OFF-AP-10003500|Office Supplies|  Appliances|KitchenAid Microw...| 3701.52|      12|       0|   1036.08|       804.54|      Critical|\n",
            "| 13779|ES-2014-5099955|31-07-2014|03-08-2014|  Second Class|   BP-11185|    Ben Peterman|  Corporate|        Paris|  Ile-de-France|       France|       null|    EU|     Central| OFF-AP-10000423|Office Supplies|  Appliances|Breville Refriger...|1869.588|       4|     0.1|   186.948|       801.66|      Critical|\n",
            "| 36178| CA-2014-143567|03-11-2014|06-11-2014|  Second Class|   TB-21175|   Thomas Boland|  Corporate|    Henderson|       Kentucky|United States|      42420|    US|       South| TEC-AC-10004145|     Technology| Accessories|Logitech diNovo E...| 2249.91|       9|       0|  517.4793|        780.7|      Critical|\n",
            "| 12069|ES-2014-1651774|08-09-2014|14-09-2014|Standard Class|   PJ-18835|   Patrick Jones|  Corporate|        Prato|        Tuscany|        Italy|       null|    EU|       South| OFF-AP-10004512|Office Supplies|  Appliances|   Hoover Stove, Red| 7958.58|      14|       0|   3979.08|       778.32|           Low|\n",
            "| 22096|  IN-2014-11763|31-01-2014|01-02-2014|   First Class|   JS-15685|        Jim Sink|  Corporate|   Townsville|     Queensland|    Australia|       null|  APAC|     Oceania| TEC-CO-10000865|     Technology|     Copiers|Brother Fax Machi...|2565.594|       9|     0.1|    28.404|       766.93|      Critical|\n",
            "| 49463|   TZ-2014-8190|05-12-2014|07-12-2014|  Second Class|    RH-9555| Ritsa Hightower|   Consumer|       Uvinza|         Kigoma|     Tanzania|       null|Africa|      Africa|OFF-KIT-10004058|Office Supplies|  Appliances|KitchenAid Stove,...| 3409.74|       6|       0|    818.28|       763.38|          High|\n",
            "+------+---------------+----------+----------+--------------+-----------+----------------+-----------+-------------+---------------+-------------+-----------+------+------------+----------------+---------------+------------+--------------------+--------+--------+--------+----------+-------------+--------------+\n",
            "only showing top 20 rows\n",
            "\n"
          ]
        }
      ]
    },
    {
      "cell_type": "code",
      "source": [
        "orders_df.printSchema()"
      ],
      "metadata": {
        "colab": {
          "base_uri": "https://localhost:8080/"
        },
        "id": "CGiHC1QTnC4r",
        "outputId": "63eaf129-9cb1-432f-fb77-08cfbb1363e1"
      },
      "execution_count": 18,
      "outputs": [
        {
          "output_type": "stream",
          "name": "stdout",
          "text": [
            "root\n",
            " |-- Row ID: integer (nullable = true)\n",
            " |-- Order ID: string (nullable = true)\n",
            " |-- Order Date: string (nullable = true)\n",
            " |-- Ship Date: string (nullable = true)\n",
            " |-- Ship Mode: string (nullable = true)\n",
            " |-- Customer ID: string (nullable = true)\n",
            " |-- Customer Name: string (nullable = true)\n",
            " |-- Segment: string (nullable = true)\n",
            " |-- City: string (nullable = true)\n",
            " |-- State: string (nullable = true)\n",
            " |-- Country: string (nullable = true)\n",
            " |-- Postal Code: integer (nullable = true)\n",
            " |-- Market: string (nullable = true)\n",
            " |-- Region: string (nullable = true)\n",
            " |-- Product ID: string (nullable = true)\n",
            " |-- Category: string (nullable = true)\n",
            " |-- Sub-Category: string (nullable = true)\n",
            " |-- Product Name: string (nullable = true)\n",
            " |-- Sales: string (nullable = true)\n",
            " |-- Quantity: string (nullable = true)\n",
            " |-- Discount: string (nullable = true)\n",
            " |-- Profit: double (nullable = true)\n",
            " |-- Shipping Cost: double (nullable = true)\n",
            " |-- Order Priority: string (nullable = true)\n",
            "\n"
          ]
        }
      ]
    },
    {
      "cell_type": "markdown",
      "source": [
        "## Selecting Columns"
      ],
      "metadata": {
        "id": "hnnHezzrnsfT"
      }
    },
    {
      "cell_type": "code",
      "source": [
        "cols = orders_df.columns\n",
        "print(cols)"
      ],
      "metadata": {
        "colab": {
          "base_uri": "https://localhost:8080/"
        },
        "id": "3FpA_Ml6nP0Y",
        "outputId": "86d60ebd-a6c1-4dbe-b317-51d2b3ba7be1"
      },
      "execution_count": 20,
      "outputs": [
        {
          "output_type": "stream",
          "name": "stdout",
          "text": [
            "['Row ID', 'Order ID', 'Order Date', 'Ship Date', 'Ship Mode', 'Customer ID', 'Customer Name', 'Segment', 'City', 'State', 'Country', 'Postal Code', 'Market', 'Region', 'Product ID', 'Category', 'Sub-Category', 'Product Name', 'Sales', 'Quantity', 'Discount', 'Profit', 'Shipping Cost', 'Order Priority']\n"
          ]
        }
      ]
    },
    {
      "cell_type": "code",
      "source": [
        "orders_df.select('Ship Mode')"
      ],
      "metadata": {
        "colab": {
          "base_uri": "https://localhost:8080/"
        },
        "id": "HMHSzMlsoF_Q",
        "outputId": "d4c92cef-5519-4a40-8281-94928aee61b6"
      },
      "execution_count": 23,
      "outputs": [
        {
          "output_type": "execute_result",
          "data": {
            "text/plain": [
              "DataFrame[Ship Mode: string]"
            ]
          },
          "metadata": {},
          "execution_count": 23
        }
      ]
    },
    {
      "cell_type": "code",
      "source": [
        "orders_df.select('Ship Mode').show()"
      ],
      "metadata": {
        "colab": {
          "base_uri": "https://localhost:8080/"
        },
        "id": "OBi26vw6nxRL",
        "outputId": "ae11a144-3080-4e6d-d4eb-65965ebb31a3"
      },
      "execution_count": 22,
      "outputs": [
        {
          "output_type": "stream",
          "name": "stdout",
          "text": [
            "+--------------+\n",
            "|     Ship Mode|\n",
            "+--------------+\n",
            "|      Same Day|\n",
            "|  Second Class|\n",
            "|   First Class|\n",
            "|   First Class|\n",
            "|      Same Day|\n",
            "|  Second Class|\n",
            "|   First Class|\n",
            "|Standard Class|\n",
            "|Standard Class|\n",
            "|  Second Class|\n",
            "|  Second Class|\n",
            "|   First Class|\n",
            "|  Second Class|\n",
            "|      Same Day|\n",
            "|  Second Class|\n",
            "|  Second Class|\n",
            "|  Second Class|\n",
            "|Standard Class|\n",
            "|   First Class|\n",
            "|  Second Class|\n",
            "+--------------+\n",
            "only showing top 20 rows\n",
            "\n"
          ]
        }
      ]
    },
    {
      "cell_type": "code",
      "source": [
        "orders_df.select(['Ship Mode','City'])"
      ],
      "metadata": {
        "colab": {
          "base_uri": "https://localhost:8080/"
        },
        "id": "9n3xK0BEn-Gt",
        "outputId": "1e9c28c7-e4b9-4496-e925-4f8c82af362d"
      },
      "execution_count": 24,
      "outputs": [
        {
          "output_type": "execute_result",
          "data": {
            "text/plain": [
              "DataFrame[Ship Mode: string, City: string]"
            ]
          },
          "metadata": {},
          "execution_count": 24
        }
      ]
    },
    {
      "cell_type": "code",
      "source": [
        "orders_df.select(['Ship Mode','City']).show()"
      ],
      "metadata": {
        "colab": {
          "base_uri": "https://localhost:8080/"
        },
        "id": "3evXEUkToL-j",
        "outputId": "70bc1118-b52b-49ad-8855-15220f5e97ac"
      },
      "execution_count": 25,
      "outputs": [
        {
          "output_type": "stream",
          "name": "stdout",
          "text": [
            "+--------------+-------------+\n",
            "|     Ship Mode|         City|\n",
            "+--------------+-------------+\n",
            "|      Same Day|New York City|\n",
            "|  Second Class|   Wollongong|\n",
            "|   First Class|     Brisbane|\n",
            "|   First Class|       Berlin|\n",
            "|      Same Day|        Dakar|\n",
            "|  Second Class|       Sydney|\n",
            "|   First Class|      Porirua|\n",
            "|Standard Class|     Hamilton|\n",
            "|Standard Class|   Sacramento|\n",
            "|  Second Class|      Concord|\n",
            "|  Second Class|   Alexandria|\n",
            "|   First Class|        Kabul|\n",
            "|  Second Class|        Jizan|\n",
            "|      Same Day|       Toledo|\n",
            "|  Second Class|   Mudanjiang|\n",
            "|  Second Class|        Paris|\n",
            "|  Second Class|    Henderson|\n",
            "|Standard Class|        Prato|\n",
            "|   First Class|   Townsville|\n",
            "|  Second Class|       Uvinza|\n",
            "+--------------+-------------+\n",
            "only showing top 20 rows\n",
            "\n"
          ]
        }
      ]
    },
    {
      "cell_type": "markdown",
      "source": [
        "## Datatypes"
      ],
      "metadata": {
        "id": "cFJ1cMrrokiT"
      }
    },
    {
      "cell_type": "code",
      "source": [
        "orders_df.dtypes"
      ],
      "metadata": {
        "colab": {
          "base_uri": "https://localhost:8080/"
        },
        "id": "osyT39wYoN4c",
        "outputId": "301c8e9d-627f-4f7a-ec03-799937b63e27"
      },
      "execution_count": 27,
      "outputs": [
        {
          "output_type": "execute_result",
          "data": {
            "text/plain": [
              "[('Row ID', 'int'),\n",
              " ('Order ID', 'string'),\n",
              " ('Order Date', 'string'),\n",
              " ('Ship Date', 'string'),\n",
              " ('Ship Mode', 'string'),\n",
              " ('Customer ID', 'string'),\n",
              " ('Customer Name', 'string'),\n",
              " ('Segment', 'string'),\n",
              " ('City', 'string'),\n",
              " ('State', 'string'),\n",
              " ('Country', 'string'),\n",
              " ('Postal Code', 'int'),\n",
              " ('Market', 'string'),\n",
              " ('Region', 'string'),\n",
              " ('Product ID', 'string'),\n",
              " ('Category', 'string'),\n",
              " ('Sub-Category', 'string'),\n",
              " ('Product Name', 'string'),\n",
              " ('Sales', 'string'),\n",
              " ('Quantity', 'string'),\n",
              " ('Discount', 'string'),\n",
              " ('Profit', 'double'),\n",
              " ('Shipping Cost', 'double'),\n",
              " ('Order Priority', 'string')]"
            ]
          },
          "metadata": {},
          "execution_count": 27
        }
      ]
    },
    {
      "cell_type": "markdown",
      "source": [
        "## Describing dataframe"
      ],
      "metadata": {
        "id": "XLlxJFg6opA5"
      }
    },
    {
      "cell_type": "code",
      "source": [
        "orders_df.describe()"
      ],
      "metadata": {
        "colab": {
          "base_uri": "https://localhost:8080/"
        },
        "id": "SgesuXmTohw0",
        "outputId": "dc65c387-4540-4766-9d96-8c5d86eb4aa8"
      },
      "execution_count": 28,
      "outputs": [
        {
          "output_type": "execute_result",
          "data": {
            "text/plain": [
              "DataFrame[summary: string, Row ID: string, Order ID: string, Order Date: string, Ship Date: string, Ship Mode: string, Customer ID: string, Customer Name: string, Segment: string, City: string, State: string, Country: string, Postal Code: string, Market: string, Region: string, Product ID: string, Category: string, Sub-Category: string, Product Name: string, Sales: string, Quantity: string, Discount: string, Profit: string, Shipping Cost: string, Order Priority: string]"
            ]
          },
          "metadata": {},
          "execution_count": 28
        }
      ]
    },
    {
      "cell_type": "code",
      "source": [
        "orders_df.describe().show()"
      ],
      "metadata": {
        "colab": {
          "base_uri": "https://localhost:8080/"
        },
        "id": "F7AARAjyovKP",
        "outputId": "0238438e-2a67-4f39-d70c-d10952c985c0"
      },
      "execution_count": 29,
      "outputs": [
        {
          "output_type": "stream",
          "name": "stdout",
          "text": [
            "+-------+------------------+------------+----------+----------+--------------+-----------+------------------+-----------+--------------------+------+-----------+------------------+------+------+----------------+----------+------------+--------------------+------------------+-----------------+-------------------+------------------+------------------+------------------+\n",
            "|summary|            Row ID|    Order ID|Order Date| Ship Date|     Ship Mode|Customer ID|     Customer Name|    Segment|                City| State|    Country|       Postal Code|Market|Region|      Product ID|  Category|Sub-Category|        Product Name|             Sales|         Quantity|           Discount|            Profit|     Shipping Cost|    Order Priority|\n",
            "+-------+------------------+------------+----------+----------+--------------+-----------+------------------+-----------+--------------------+------+-----------+------------------+------+------+----------------+----------+------------+--------------------+------------------+-----------------+-------------------+------------------+------------------+------------------+\n",
            "|  count|             51290|       51290|     51290|     51290|         51290|      51290|             51290|      51290|               51290| 51290|      51290|              9994| 51290| 51290|           51290|     51290|       51290|               51290|             51290|            51290|              51290|             51290|             51290|             51290|\n",
            "|   mean|           25645.5|        null|      null|      null|          null|       null|              null|       null|                null|  null|       null|  55190.3794276566|  null|  null|            null|      null|        null|                null| 247.4554011743524|3.873090735322801|0.17393517814308795|28.597540880873463|26.373343530903142| 6.944891999999997|\n",
            "| stddev|14806.291990231673|        null|      null|      null|          null|       null|              null|       null|                null|  null|       null|32063.693350364494|  null|  null|            null|      null|        null|                null|488.71690163686037|11.48156812081264| 1.4763150260878761|174.37475086964483| 57.34029076794852|13.991063588806345|\n",
            "|    min|                 1|AE-2011-9160|01-01-2011|01-01-2012|   First Class|   AA-10315|     Aaron Bergman|   Consumer|              Aachen|'Ajman|Afghanistan|              1040|  APAC|Africa|FUR-ADV-10000002| Furniture| Accessories|\"\"\"While you Were...|          10/Pack\"|     1040 sheets\"|            30/Box\"|         -6599.978|         -292.9872|             0.05 |\n",
            "|    max|             51290|ZI-2014-9650|31-12-2014|31-12-2014|Standard Class|   ZD-21925|Zuschuss Donatelli|Home Office|�guas Lindas de G...|�ilina|   Zimbabwe|             99301|    US|  West|TEC-STA-10004927|Technology|      Tables|netTALK DUO VoIP ...|            999.98|           98.352|             98.352|          8399.976|            933.57|            Medium|\n",
            "+-------+------------------+------------+----------+----------+--------------+-----------+------------------+-----------+--------------------+------+-----------+------------------+------+------+----------------+----------+------------+--------------------+------------------+-----------------+-------------------+------------------+------------------+------------------+\n",
            "\n"
          ]
        }
      ]
    },
    {
      "cell_type": "markdown",
      "source": [
        "## Adding Columns and Droping Columns"
      ],
      "metadata": {
        "id": "HAhDcGw5o169"
      }
    },
    {
      "cell_type": "code",
      "source": [
        "# not an implice operations\n",
        "orders_df.withColumn('toal_amt',orders_df['Sales']+orders_df['Discount']).show()"
      ],
      "metadata": {
        "colab": {
          "base_uri": "https://localhost:8080/"
        },
        "id": "VwRYLspXoxfo",
        "outputId": "50568c81-f4f7-44d0-e2a2-2e2f871f7fda"
      },
      "execution_count": 35,
      "outputs": [
        {
          "output_type": "stream",
          "name": "stdout",
          "text": [
            "+------+---------------+----------+----------+--------------+-----------+----------------+-----------+-------------+---------------+-------------+-----------+------+------------+----------------+---------------+------------+--------------------+--------+--------+--------+----------+-------------+--------------+------------------+\n",
            "|Row ID|       Order ID|Order Date| Ship Date|     Ship Mode|Customer ID|   Customer Name|    Segment|         City|          State|      Country|Postal Code|Market|      Region|      Product ID|       Category|Sub-Category|        Product Name|   Sales|Quantity|Discount|    Profit|Shipping Cost|Order Priority|          toal_amt|\n",
            "+------+---------------+----------+----------+--------------+-----------+----------------+-----------+-------------+---------------+-------------+-----------+------+------------+----------------+---------------+------------+--------------------+--------+--------+--------+----------+-------------+--------------+------------------+\n",
            "| 32298| CA-2012-124891|31-07-2012|31-07-2012|      Same Day|   RH-19495|     Rick Hansen|   Consumer|New York City|       New York|United States|      10024|    US|        East| TEC-AC-10003033|     Technology| Accessories|Plantronics CS510...| 2309.65|       7|       0|  762.1845|       933.57|      Critical|           2309.65|\n",
            "| 26341|  IN-2013-77878|05-02-2013|07-02-2013|  Second Class|   JR-16210|   Justin Ritter|  Corporate|   Wollongong|New South Wales|    Australia|       null|  APAC|     Oceania| FUR-CH-10003950|      Furniture|      Chairs|Novimex Executive...|3709.395|       9|     0.1|  -288.765|       923.63|      Critical|          3709.495|\n",
            "| 25330|  IN-2013-71249|17-10-2013|18-10-2013|   First Class|   CR-12730|    Craig Reiter|   Consumer|     Brisbane|     Queensland|    Australia|       null|  APAC|     Oceania| TEC-PH-10004664|     Technology|      Phones|Nokia Smart Phone...|5175.171|       9|     0.1|   919.971|       915.49|        Medium| 5175.271000000001|\n",
            "| 13524|ES-2013-1579342|28-01-2013|30-01-2013|   First Class|   KM-16375|Katherine Murray|Home Office|       Berlin|         Berlin|      Germany|       null|    EU|     Central| TEC-PH-10004583|     Technology|      Phones|Motorola Smart Ph...| 2892.51|       5|     0.1|    -96.54|       910.16|        Medium|           2892.61|\n",
            "| 47221|   SG-2013-4320|05-11-2013|06-11-2013|      Same Day|    RH-9495|     Rick Hansen|   Consumer|        Dakar|          Dakar|      Senegal|       null|Africa|      Africa|TEC-SHA-10000501|     Technology|     Copiers|Sharp Wireless Fa...| 2832.96|       8|       0|    311.52|       903.04|      Critical|           2832.96|\n",
            "| 22732|  IN-2013-42360|28-06-2013|01-07-2013|  Second Class|   JM-15655|     Jim Mitchum|  Corporate|       Sydney|New South Wales|    Australia|       null|  APAC|     Oceania| TEC-PH-10000030|     Technology|      Phones|Samsung Smart Pho...|2862.675|       5|     0.1|   763.275|       897.35|      Critical|          2862.775|\n",
            "| 30570|  IN-2011-81826|07-11-2011|09-11-2011|   First Class|   TS-21340|   Toby Swindell|   Consumer|      Porirua|     Wellington|  New Zealand|       null|  APAC|     Oceania| FUR-CH-10004050|      Furniture|      Chairs|Novimex Executive...| 1822.08|       4|       0|    564.84|       894.77|      Critical|           1822.08|\n",
            "| 31192|  IN-2012-86369|14-04-2012|18-04-2012|Standard Class|   MB-18085|      Mick Brown|   Consumer|     Hamilton|        Waikato|  New Zealand|       null|  APAC|     Oceania| FUR-TA-10002958|      Furniture|      Tables|Chromcraft Confer...| 5244.84|       6|       0|    996.48|       878.38|          High|           5244.84|\n",
            "| 40155| CA-2014-135909|14-10-2014|21-10-2014|Standard Class|   JW-15220|       Jane Waco|  Corporate|   Sacramento|     California|United States|      95823|    US|        West| OFF-BI-10003527|Office Supplies|     Binders|Fellowes PB500 El...| 5083.96|       5|     0.2|  1906.485|       867.69|           Low|           5084.16|\n",
            "| 40936| CA-2012-116638|28-01-2012|31-01-2012|  Second Class|   JH-15985|     Joseph Holt|   Consumer|      Concord| North Carolina|United States|      28027|    US|       South| FUR-TA-10000198|      Furniture|      Tables|Chromcraft Bull-N...|4297.644|      13|     0.4|-1862.3124|       865.74|      Critical|          4298.044|\n",
            "| 34577| CA-2011-102988|05-04-2011|09-04-2011|  Second Class|   GM-14695|    Greg Maxwell|  Corporate|   Alexandria|       Virginia|United States|      22304|    US|       South| OFF-SU-10002881|Office Supplies|    Supplies|Martin Yale Chadl...| 4164.05|       5|       0|    83.281|       846.54|          High|           4164.05|\n",
            "| 28879|  ID-2012-28402|19-04-2012|22-04-2012|   First Class|   AJ-10780|  Anthony Jacobs|  Corporate|        Kabul|          Kabul|  Afghanistan|       null|  APAC|Central Asia| FUR-TA-10001889|      Furniture|      Tables|Bevis Conference ...| 4626.15|       5|       0|    647.55|       835.57|          High|           4626.15|\n",
            "| 45794|   SA-2011-1830|27-12-2011|29-12-2011|  Second Class|    MM-7260| Magdelene Morse|   Consumer|        Jizan|          Jizan| Saudi Arabia|       null|  EMEA|        EMEA|TEC-CIS-10001717|     Technology|      Phones|Cisco Smart Phone...| 2616.96|       4|       0|    1151.4|       832.41|      Critical|           2616.96|\n",
            "|  4132| MX-2012-130015|13-11-2012|13-11-2012|      Same Day|   VF-21715|  Vicky Freymann|Home Office|       Toledo|         Parana|       Brazil|       null| LATAM|       South| FUR-CH-10002033|      Furniture|      Chairs|Harbour Creations...|  2221.8|       7|       0|    622.02|       810.25|      Critical|            2221.8|\n",
            "| 27704|  IN-2013-73951|06-06-2013|08-06-2013|  Second Class|   PF-19120|    Peter Fuller|   Consumer|   Mudanjiang|   Heilongjiang|        China|       null|  APAC|  North Asia| OFF-AP-10003500|Office Supplies|  Appliances|KitchenAid Microw...| 3701.52|      12|       0|   1036.08|       804.54|      Critical|           3701.52|\n",
            "| 13779|ES-2014-5099955|31-07-2014|03-08-2014|  Second Class|   BP-11185|    Ben Peterman|  Corporate|        Paris|  Ile-de-France|       France|       null|    EU|     Central| OFF-AP-10000423|Office Supplies|  Appliances|Breville Refriger...|1869.588|       4|     0.1|   186.948|       801.66|      Critical|1869.6879999999999|\n",
            "| 36178| CA-2014-143567|03-11-2014|06-11-2014|  Second Class|   TB-21175|   Thomas Boland|  Corporate|    Henderson|       Kentucky|United States|      42420|    US|       South| TEC-AC-10004145|     Technology| Accessories|Logitech diNovo E...| 2249.91|       9|       0|  517.4793|        780.7|      Critical|           2249.91|\n",
            "| 12069|ES-2014-1651774|08-09-2014|14-09-2014|Standard Class|   PJ-18835|   Patrick Jones|  Corporate|        Prato|        Tuscany|        Italy|       null|    EU|       South| OFF-AP-10004512|Office Supplies|  Appliances|   Hoover Stove, Red| 7958.58|      14|       0|   3979.08|       778.32|           Low|           7958.58|\n",
            "| 22096|  IN-2014-11763|31-01-2014|01-02-2014|   First Class|   JS-15685|        Jim Sink|  Corporate|   Townsville|     Queensland|    Australia|       null|  APAC|     Oceania| TEC-CO-10000865|     Technology|     Copiers|Brother Fax Machi...|2565.594|       9|     0.1|    28.404|       766.93|      Critical|          2565.694|\n",
            "| 49463|   TZ-2014-8190|05-12-2014|07-12-2014|  Second Class|    RH-9555| Ritsa Hightower|   Consumer|       Uvinza|         Kigoma|     Tanzania|       null|Africa|      Africa|OFF-KIT-10004058|Office Supplies|  Appliances|KitchenAid Stove,...| 3409.74|       6|       0|    818.28|       763.38|          High|           3409.74|\n",
            "+------+---------------+----------+----------+--------------+-----------+----------------+-----------+-------------+---------------+-------------+-----------+------+------------+----------------+---------------+------------+--------------------+--------+--------+--------+----------+-------------+--------------+------------------+\n",
            "only showing top 20 rows\n",
            "\n"
          ]
        }
      ]
    },
    {
      "cell_type": "code",
      "source": [
        "orders_df.drop('Order Date','Ship Date').show()"
      ],
      "metadata": {
        "colab": {
          "base_uri": "https://localhost:8080/"
        },
        "id": "CvjWMiLcpKbJ",
        "outputId": "4d95fdc7-65fc-440b-a466-379d74308ed0"
      },
      "execution_count": 38,
      "outputs": [
        {
          "output_type": "stream",
          "name": "stdout",
          "text": [
            "+------+---------------+--------------+-----------+----------------+-----------+-------------+---------------+-------------+-----------+------+------------+----------------+---------------+------------+--------------------+--------+--------+--------+----------+-------------+--------------+\n",
            "|Row ID|       Order ID|     Ship Mode|Customer ID|   Customer Name|    Segment|         City|          State|      Country|Postal Code|Market|      Region|      Product ID|       Category|Sub-Category|        Product Name|   Sales|Quantity|Discount|    Profit|Shipping Cost|Order Priority|\n",
            "+------+---------------+--------------+-----------+----------------+-----------+-------------+---------------+-------------+-----------+------+------------+----------------+---------------+------------+--------------------+--------+--------+--------+----------+-------------+--------------+\n",
            "| 32298| CA-2012-124891|      Same Day|   RH-19495|     Rick Hansen|   Consumer|New York City|       New York|United States|      10024|    US|        East| TEC-AC-10003033|     Technology| Accessories|Plantronics CS510...| 2309.65|       7|       0|  762.1845|       933.57|      Critical|\n",
            "| 26341|  IN-2013-77878|  Second Class|   JR-16210|   Justin Ritter|  Corporate|   Wollongong|New South Wales|    Australia|       null|  APAC|     Oceania| FUR-CH-10003950|      Furniture|      Chairs|Novimex Executive...|3709.395|       9|     0.1|  -288.765|       923.63|      Critical|\n",
            "| 25330|  IN-2013-71249|   First Class|   CR-12730|    Craig Reiter|   Consumer|     Brisbane|     Queensland|    Australia|       null|  APAC|     Oceania| TEC-PH-10004664|     Technology|      Phones|Nokia Smart Phone...|5175.171|       9|     0.1|   919.971|       915.49|        Medium|\n",
            "| 13524|ES-2013-1579342|   First Class|   KM-16375|Katherine Murray|Home Office|       Berlin|         Berlin|      Germany|       null|    EU|     Central| TEC-PH-10004583|     Technology|      Phones|Motorola Smart Ph...| 2892.51|       5|     0.1|    -96.54|       910.16|        Medium|\n",
            "| 47221|   SG-2013-4320|      Same Day|    RH-9495|     Rick Hansen|   Consumer|        Dakar|          Dakar|      Senegal|       null|Africa|      Africa|TEC-SHA-10000501|     Technology|     Copiers|Sharp Wireless Fa...| 2832.96|       8|       0|    311.52|       903.04|      Critical|\n",
            "| 22732|  IN-2013-42360|  Second Class|   JM-15655|     Jim Mitchum|  Corporate|       Sydney|New South Wales|    Australia|       null|  APAC|     Oceania| TEC-PH-10000030|     Technology|      Phones|Samsung Smart Pho...|2862.675|       5|     0.1|   763.275|       897.35|      Critical|\n",
            "| 30570|  IN-2011-81826|   First Class|   TS-21340|   Toby Swindell|   Consumer|      Porirua|     Wellington|  New Zealand|       null|  APAC|     Oceania| FUR-CH-10004050|      Furniture|      Chairs|Novimex Executive...| 1822.08|       4|       0|    564.84|       894.77|      Critical|\n",
            "| 31192|  IN-2012-86369|Standard Class|   MB-18085|      Mick Brown|   Consumer|     Hamilton|        Waikato|  New Zealand|       null|  APAC|     Oceania| FUR-TA-10002958|      Furniture|      Tables|Chromcraft Confer...| 5244.84|       6|       0|    996.48|       878.38|          High|\n",
            "| 40155| CA-2014-135909|Standard Class|   JW-15220|       Jane Waco|  Corporate|   Sacramento|     California|United States|      95823|    US|        West| OFF-BI-10003527|Office Supplies|     Binders|Fellowes PB500 El...| 5083.96|       5|     0.2|  1906.485|       867.69|           Low|\n",
            "| 40936| CA-2012-116638|  Second Class|   JH-15985|     Joseph Holt|   Consumer|      Concord| North Carolina|United States|      28027|    US|       South| FUR-TA-10000198|      Furniture|      Tables|Chromcraft Bull-N...|4297.644|      13|     0.4|-1862.3124|       865.74|      Critical|\n",
            "| 34577| CA-2011-102988|  Second Class|   GM-14695|    Greg Maxwell|  Corporate|   Alexandria|       Virginia|United States|      22304|    US|       South| OFF-SU-10002881|Office Supplies|    Supplies|Martin Yale Chadl...| 4164.05|       5|       0|    83.281|       846.54|          High|\n",
            "| 28879|  ID-2012-28402|   First Class|   AJ-10780|  Anthony Jacobs|  Corporate|        Kabul|          Kabul|  Afghanistan|       null|  APAC|Central Asia| FUR-TA-10001889|      Furniture|      Tables|Bevis Conference ...| 4626.15|       5|       0|    647.55|       835.57|          High|\n",
            "| 45794|   SA-2011-1830|  Second Class|    MM-7260| Magdelene Morse|   Consumer|        Jizan|          Jizan| Saudi Arabia|       null|  EMEA|        EMEA|TEC-CIS-10001717|     Technology|      Phones|Cisco Smart Phone...| 2616.96|       4|       0|    1151.4|       832.41|      Critical|\n",
            "|  4132| MX-2012-130015|      Same Day|   VF-21715|  Vicky Freymann|Home Office|       Toledo|         Parana|       Brazil|       null| LATAM|       South| FUR-CH-10002033|      Furniture|      Chairs|Harbour Creations...|  2221.8|       7|       0|    622.02|       810.25|      Critical|\n",
            "| 27704|  IN-2013-73951|  Second Class|   PF-19120|    Peter Fuller|   Consumer|   Mudanjiang|   Heilongjiang|        China|       null|  APAC|  North Asia| OFF-AP-10003500|Office Supplies|  Appliances|KitchenAid Microw...| 3701.52|      12|       0|   1036.08|       804.54|      Critical|\n",
            "| 13779|ES-2014-5099955|  Second Class|   BP-11185|    Ben Peterman|  Corporate|        Paris|  Ile-de-France|       France|       null|    EU|     Central| OFF-AP-10000423|Office Supplies|  Appliances|Breville Refriger...|1869.588|       4|     0.1|   186.948|       801.66|      Critical|\n",
            "| 36178| CA-2014-143567|  Second Class|   TB-21175|   Thomas Boland|  Corporate|    Henderson|       Kentucky|United States|      42420|    US|       South| TEC-AC-10004145|     Technology| Accessories|Logitech diNovo E...| 2249.91|       9|       0|  517.4793|        780.7|      Critical|\n",
            "| 12069|ES-2014-1651774|Standard Class|   PJ-18835|   Patrick Jones|  Corporate|        Prato|        Tuscany|        Italy|       null|    EU|       South| OFF-AP-10004512|Office Supplies|  Appliances|   Hoover Stove, Red| 7958.58|      14|       0|   3979.08|       778.32|           Low|\n",
            "| 22096|  IN-2014-11763|   First Class|   JS-15685|        Jim Sink|  Corporate|   Townsville|     Queensland|    Australia|       null|  APAC|     Oceania| TEC-CO-10000865|     Technology|     Copiers|Brother Fax Machi...|2565.594|       9|     0.1|    28.404|       766.93|      Critical|\n",
            "| 49463|   TZ-2014-8190|  Second Class|    RH-9555| Ritsa Hightower|   Consumer|       Uvinza|         Kigoma|     Tanzania|       null|Africa|      Africa|OFF-KIT-10004058|Office Supplies|  Appliances|KitchenAid Stove,...| 3409.74|       6|       0|    818.28|       763.38|          High|\n",
            "+------+---------------+--------------+-----------+----------------+-----------+-------------+---------------+-------------+-----------+------+------------+----------------+---------------+------------+--------------------+--------+--------+--------+----------+-------------+--------------+\n",
            "only showing top 20 rows\n",
            "\n"
          ]
        }
      ]
    },
    {
      "cell_type": "markdown",
      "source": [
        "## Renaming the columns"
      ],
      "metadata": {
        "id": "mGxGJnhiqYEn"
      }
    },
    {
      "cell_type": "code",
      "source": [
        "orders_df.withColumnRenamed('Order ID','Ord id').show()"
      ],
      "metadata": {
        "colab": {
          "base_uri": "https://localhost:8080/"
        },
        "id": "VF54RSm9qB_j",
        "outputId": "445c45ba-b22b-4297-d7e0-4024ad125f92"
      },
      "execution_count": 39,
      "outputs": [
        {
          "output_type": "stream",
          "name": "stdout",
          "text": [
            "+------+---------------+----------+----------+--------------+-----------+----------------+-----------+-------------+---------------+-------------+-----------+------+------------+----------------+---------------+------------+--------------------+--------+--------+--------+----------+-------------+--------------+\n",
            "|Row ID|         Ord id|Order Date| Ship Date|     Ship Mode|Customer ID|   Customer Name|    Segment|         City|          State|      Country|Postal Code|Market|      Region|      Product ID|       Category|Sub-Category|        Product Name|   Sales|Quantity|Discount|    Profit|Shipping Cost|Order Priority|\n",
            "+------+---------------+----------+----------+--------------+-----------+----------------+-----------+-------------+---------------+-------------+-----------+------+------------+----------------+---------------+------------+--------------------+--------+--------+--------+----------+-------------+--------------+\n",
            "| 32298| CA-2012-124891|31-07-2012|31-07-2012|      Same Day|   RH-19495|     Rick Hansen|   Consumer|New York City|       New York|United States|      10024|    US|        East| TEC-AC-10003033|     Technology| Accessories|Plantronics CS510...| 2309.65|       7|       0|  762.1845|       933.57|      Critical|\n",
            "| 26341|  IN-2013-77878|05-02-2013|07-02-2013|  Second Class|   JR-16210|   Justin Ritter|  Corporate|   Wollongong|New South Wales|    Australia|       null|  APAC|     Oceania| FUR-CH-10003950|      Furniture|      Chairs|Novimex Executive...|3709.395|       9|     0.1|  -288.765|       923.63|      Critical|\n",
            "| 25330|  IN-2013-71249|17-10-2013|18-10-2013|   First Class|   CR-12730|    Craig Reiter|   Consumer|     Brisbane|     Queensland|    Australia|       null|  APAC|     Oceania| TEC-PH-10004664|     Technology|      Phones|Nokia Smart Phone...|5175.171|       9|     0.1|   919.971|       915.49|        Medium|\n",
            "| 13524|ES-2013-1579342|28-01-2013|30-01-2013|   First Class|   KM-16375|Katherine Murray|Home Office|       Berlin|         Berlin|      Germany|       null|    EU|     Central| TEC-PH-10004583|     Technology|      Phones|Motorola Smart Ph...| 2892.51|       5|     0.1|    -96.54|       910.16|        Medium|\n",
            "| 47221|   SG-2013-4320|05-11-2013|06-11-2013|      Same Day|    RH-9495|     Rick Hansen|   Consumer|        Dakar|          Dakar|      Senegal|       null|Africa|      Africa|TEC-SHA-10000501|     Technology|     Copiers|Sharp Wireless Fa...| 2832.96|       8|       0|    311.52|       903.04|      Critical|\n",
            "| 22732|  IN-2013-42360|28-06-2013|01-07-2013|  Second Class|   JM-15655|     Jim Mitchum|  Corporate|       Sydney|New South Wales|    Australia|       null|  APAC|     Oceania| TEC-PH-10000030|     Technology|      Phones|Samsung Smart Pho...|2862.675|       5|     0.1|   763.275|       897.35|      Critical|\n",
            "| 30570|  IN-2011-81826|07-11-2011|09-11-2011|   First Class|   TS-21340|   Toby Swindell|   Consumer|      Porirua|     Wellington|  New Zealand|       null|  APAC|     Oceania| FUR-CH-10004050|      Furniture|      Chairs|Novimex Executive...| 1822.08|       4|       0|    564.84|       894.77|      Critical|\n",
            "| 31192|  IN-2012-86369|14-04-2012|18-04-2012|Standard Class|   MB-18085|      Mick Brown|   Consumer|     Hamilton|        Waikato|  New Zealand|       null|  APAC|     Oceania| FUR-TA-10002958|      Furniture|      Tables|Chromcraft Confer...| 5244.84|       6|       0|    996.48|       878.38|          High|\n",
            "| 40155| CA-2014-135909|14-10-2014|21-10-2014|Standard Class|   JW-15220|       Jane Waco|  Corporate|   Sacramento|     California|United States|      95823|    US|        West| OFF-BI-10003527|Office Supplies|     Binders|Fellowes PB500 El...| 5083.96|       5|     0.2|  1906.485|       867.69|           Low|\n",
            "| 40936| CA-2012-116638|28-01-2012|31-01-2012|  Second Class|   JH-15985|     Joseph Holt|   Consumer|      Concord| North Carolina|United States|      28027|    US|       South| FUR-TA-10000198|      Furniture|      Tables|Chromcraft Bull-N...|4297.644|      13|     0.4|-1862.3124|       865.74|      Critical|\n",
            "| 34577| CA-2011-102988|05-04-2011|09-04-2011|  Second Class|   GM-14695|    Greg Maxwell|  Corporate|   Alexandria|       Virginia|United States|      22304|    US|       South| OFF-SU-10002881|Office Supplies|    Supplies|Martin Yale Chadl...| 4164.05|       5|       0|    83.281|       846.54|          High|\n",
            "| 28879|  ID-2012-28402|19-04-2012|22-04-2012|   First Class|   AJ-10780|  Anthony Jacobs|  Corporate|        Kabul|          Kabul|  Afghanistan|       null|  APAC|Central Asia| FUR-TA-10001889|      Furniture|      Tables|Bevis Conference ...| 4626.15|       5|       0|    647.55|       835.57|          High|\n",
            "| 45794|   SA-2011-1830|27-12-2011|29-12-2011|  Second Class|    MM-7260| Magdelene Morse|   Consumer|        Jizan|          Jizan| Saudi Arabia|       null|  EMEA|        EMEA|TEC-CIS-10001717|     Technology|      Phones|Cisco Smart Phone...| 2616.96|       4|       0|    1151.4|       832.41|      Critical|\n",
            "|  4132| MX-2012-130015|13-11-2012|13-11-2012|      Same Day|   VF-21715|  Vicky Freymann|Home Office|       Toledo|         Parana|       Brazil|       null| LATAM|       South| FUR-CH-10002033|      Furniture|      Chairs|Harbour Creations...|  2221.8|       7|       0|    622.02|       810.25|      Critical|\n",
            "| 27704|  IN-2013-73951|06-06-2013|08-06-2013|  Second Class|   PF-19120|    Peter Fuller|   Consumer|   Mudanjiang|   Heilongjiang|        China|       null|  APAC|  North Asia| OFF-AP-10003500|Office Supplies|  Appliances|KitchenAid Microw...| 3701.52|      12|       0|   1036.08|       804.54|      Critical|\n",
            "| 13779|ES-2014-5099955|31-07-2014|03-08-2014|  Second Class|   BP-11185|    Ben Peterman|  Corporate|        Paris|  Ile-de-France|       France|       null|    EU|     Central| OFF-AP-10000423|Office Supplies|  Appliances|Breville Refriger...|1869.588|       4|     0.1|   186.948|       801.66|      Critical|\n",
            "| 36178| CA-2014-143567|03-11-2014|06-11-2014|  Second Class|   TB-21175|   Thomas Boland|  Corporate|    Henderson|       Kentucky|United States|      42420|    US|       South| TEC-AC-10004145|     Technology| Accessories|Logitech diNovo E...| 2249.91|       9|       0|  517.4793|        780.7|      Critical|\n",
            "| 12069|ES-2014-1651774|08-09-2014|14-09-2014|Standard Class|   PJ-18835|   Patrick Jones|  Corporate|        Prato|        Tuscany|        Italy|       null|    EU|       South| OFF-AP-10004512|Office Supplies|  Appliances|   Hoover Stove, Red| 7958.58|      14|       0|   3979.08|       778.32|           Low|\n",
            "| 22096|  IN-2014-11763|31-01-2014|01-02-2014|   First Class|   JS-15685|        Jim Sink|  Corporate|   Townsville|     Queensland|    Australia|       null|  APAC|     Oceania| TEC-CO-10000865|     Technology|     Copiers|Brother Fax Machi...|2565.594|       9|     0.1|    28.404|       766.93|      Critical|\n",
            "| 49463|   TZ-2014-8190|05-12-2014|07-12-2014|  Second Class|    RH-9555| Ritsa Hightower|   Consumer|       Uvinza|         Kigoma|     Tanzania|       null|Africa|      Africa|OFF-KIT-10004058|Office Supplies|  Appliances|KitchenAid Stove,...| 3409.74|       6|       0|    818.28|       763.38|          High|\n",
            "+------+---------------+----------+----------+--------------+-----------+----------------+-----------+-------------+---------------+-------------+-----------+------+------------+----------------+---------------+------------+--------------------+--------+--------+--------+----------+-------------+--------------+\n",
            "only showing top 20 rows\n",
            "\n"
          ]
        }
      ]
    },
    {
      "cell_type": "markdown",
      "source": [
        "## Handling missing values"
      ],
      "metadata": {
        "id": "8KCnejNrq6CA"
      }
    },
    {
      "cell_type": "code",
      "source": [
        ""
      ],
      "metadata": {
        "id": "ERjnBOANqmS7"
      },
      "execution_count": null,
      "outputs": []
    }
  ]
}