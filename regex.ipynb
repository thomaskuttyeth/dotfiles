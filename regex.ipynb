{
 "cells": [
  {
   "cell_type": "code",
   "execution_count": 1,
   "id": "6e299525",
   "metadata": {},
   "outputs": [],
   "source": [
    "import re"
   ]
  },
  {
   "cell_type": "code",
   "execution_count": 2,
   "id": "be921b91",
   "metadata": {},
   "outputs": [],
   "source": [
    "# Shakespeare\n",
    "text = \"\"\"\n",
    "Ha! let me see her: out, alas! he's cold:\n",
    "Her blood is settled, and her joints are stiff;\n",
    "Life and these lips have long been separated:\n",
    "Death lies on her like an untimely frost\n",
    "Upon the sweetest flower of all the field.\n",
    "\"\"\""
   ]
  },
  {
   "cell_type": "code",
   "execution_count": 3,
   "id": "22c97c91",
   "metadata": {},
   "outputs": [
    {
     "data": {
      "text/plain": [
       "['her', 'her', 'her']"
      ]
     },
     "execution_count": 3,
     "metadata": {},
     "output_type": "execute_result"
    }
   ],
   "source": [
    "re.findall('her',text)"
   ]
  },
  {
   "cell_type": "markdown",
   "id": "a2f3717f",
   "metadata": {},
   "source": [
    "## 1. Special Symbols"
   ]
  },
  {
   "cell_type": "code",
   "execution_count": 4,
   "id": "e454beb4",
   "metadata": {},
   "outputs": [],
   "source": [
    "# quick reference \n",
    "# \\n - the new line \n",
    "# \\t - tabular character \n",
    "# \\s - whitespace character \n",
    "# \\S - Negation of white space  character \n",
    "# \\w - word character ( A-Z,a-z,0-9,_)\n",
    "# \\W - Negation of word character \n",
    "# \\b - boundary character \n",
    "# \\d - digit character [0-9]\n",
    "# \\D - nondigit character [^0-9]"
   ]
  },
  {
   "cell_type": "code",
   "execution_count": 5,
   "id": "9d4b9e02",
   "metadata": {},
   "outputs": [
    {
     "name": "stdout",
     "output_type": "stream",
     "text": [
      "['Ha! let', 'me see', 'her: out', 'alas! he', 's cold', 'Her blood', 'is settled', 'and her', 'joints are', 'stiff;\\nLife', 'and these', 'lips have', 'long been', 'separated:\\nDeath', 'lies on', 'her like', 'an untimely', 'frost\\nUpon', 'the sweetest', 'flower of', 'all the']\n"
     ]
    }
   ],
   "source": [
    "print(re.findall('\\w+\\W+\\w+',text))\n",
    "# matches each pair of words in the text\n",
    "# matched text is consumed and doesn't match again. \n",
    "# thats why the combination 'let me' is not a matching substring."
   ]
  },
  {
   "cell_type": "code",
   "execution_count": 6,
   "id": "b5d28d6f",
   "metadata": {},
   "outputs": [
    {
     "name": "stdout",
     "output_type": "stream",
     "text": [
      "[]\n"
     ]
    }
   ],
   "source": [
    "print(re.findall('\\d',text))"
   ]
  },
  {
   "cell_type": "code",
   "execution_count": 7,
   "id": "4a84afac",
   "metadata": {},
   "outputs": [
    {
     "name": "stdout",
     "output_type": "stream",
     "text": [
      "[]\n"
     ]
    }
   ],
   "source": [
    "# searching all occurences of a newline character, followed by a tab character\n",
    "print(re.findall('\\n\\t',text))\n",
    "# no match because each line starts with a sequence of four whitespaces\n",
    "# rather than the tab character."
   ]
  },
  {
   "cell_type": "code",
   "execution_count": 8,
   "id": "c742f6dc",
   "metadata": {},
   "outputs": [
    {
     "name": "stdout",
     "output_type": "stream",
     "text": [
      "['\\n', '\\n', '\\n', '\\n', '\\n', '\\n']\n"
     ]
    }
   ],
   "source": [
    "# lets match the new line \n",
    "print(re.findall('\\n',text))"
   ]
  },
  {
   "cell_type": "code",
   "execution_count": 9,
   "id": "5719f763",
   "metadata": {},
   "outputs": [
    {
     "name": "stdout",
     "output_type": "stream",
     "text": [
      "[' me ', ' is ', ' on ', ' an ', ' of ']\n"
     ]
    }
   ],
   "source": [
    "print(re.findall('\\s\\w\\w\\s',text)) \n",
    "# matches two letter words surrounded by a whitespace"
   ]
  },
  {
   "cell_type": "markdown",
   "id": "81886a0b",
   "metadata": {},
   "source": [
    "## 2.Character Sets  "
   ]
  },
  {
   "cell_type": "code",
   "execution_count": 10,
   "id": "80afbefd",
   "metadata": {},
   "outputs": [],
   "source": [
    "# [a-z] matches any character from a to z\n",
    "# [0-9] matches any character from 0 to 9"
   ]
  },
  {
   "cell_type": "code",
   "execution_count": 11,
   "id": "bd89913f",
   "metadata": {},
   "outputs": [
    {
     "data": {
      "text/plain": [
       "['e', 'd']"
      ]
     },
     "execution_count": 11,
     "metadata": {},
     "output_type": "execute_result"
    }
   ],
   "source": [
    "re.findall('[a-e]','hello world')"
   ]
  },
  {
   "cell_type": "code",
   "execution_count": 12,
   "id": "56074305",
   "metadata": {},
   "outputs": [
    {
     "data": {
      "text/plain": [
       "['e', 'D', '4', '2']"
      ]
     },
     "execution_count": 12,
     "metadata": {},
     "output_type": "execute_result"
    }
   ],
   "source": [
    "# multiple character ranges \n",
    "pattern = '[a-eA-E0-4]'\n",
    "re.findall(pattern,'hello WORLD 42!')"
   ]
  },
  {
   "cell_type": "code",
   "execution_count": 13,
   "id": "a74c3302",
   "metadata": {},
   "outputs": [
    {
     "data": {
      "text/plain": [
       "['h', 'llo worl']"
      ]
     },
     "execution_count": 13,
     "metadata": {},
     "output_type": "execute_result"
    }
   ],
   "source": [
    "# negating the character sets\n",
    "re.findall('[^a-e]+','hello world')\n",
    "# + indicates one or many"
   ]
  },
  {
   "cell_type": "code",
   "execution_count": 14,
   "id": "3a48895b",
   "metadata": {},
   "outputs": [],
   "source": [
    "# puzzle \n",
    "def special_name(name):\n",
    "    return re.match('j[a-z]+n',name)"
   ]
  },
  {
   "cell_type": "code",
   "execution_count": 15,
   "id": "529290ac",
   "metadata": {},
   "outputs": [],
   "source": [
    "special_name('chris') # no match"
   ]
  },
  {
   "cell_type": "code",
   "execution_count": 16,
   "id": "ca49214e",
   "metadata": {},
   "outputs": [
    {
     "data": {
      "text/plain": [
       "<re.Match object; span=(0, 4), match='joan'>"
      ]
     },
     "execution_count": 16,
     "metadata": {},
     "output_type": "execute_result"
    }
   ],
   "source": [
    "special_name('joan')"
   ]
  },
  {
   "cell_type": "code",
   "execution_count": 17,
   "id": "4a2cb278",
   "metadata": {},
   "outputs": [
    {
     "data": {
      "text/plain": [
       "<re.Match object; span=(0, 4), match='joan'>"
      ]
     },
     "execution_count": 17,
     "metadata": {},
     "output_type": "execute_result"
    }
   ],
   "source": [
    "special_name('joan john') \n",
    "# matches the pattern at the beginning and returns a match object"
   ]
  },
  {
   "cell_type": "code",
   "execution_count": 18,
   "id": "c8c9d32c",
   "metadata": {},
   "outputs": [
    {
     "data": {
      "text/plain": [
       "(0, 5)"
      ]
     },
     "execution_count": 18,
     "metadata": {},
     "output_type": "execute_result"
    }
   ],
   "source": [
    "# accessing the start and end positions of the match in the string \n",
    "m = re.match('h...o','hello world')\n",
    "m.start(),m.end()"
   ]
  },
  {
   "cell_type": "code",
   "execution_count": 19,
   "id": "177d5505",
   "metadata": {},
   "outputs": [
    {
     "data": {
      "text/plain": [
       "'hello'"
      ]
     },
     "execution_count": 19,
     "metadata": {},
     "output_type": "execute_result"
    }
   ],
   "source": [
    "'hello world'[0:5]"
   ]
  },
  {
   "cell_type": "code",
   "execution_count": 20,
   "id": "b294d78a",
   "metadata": {},
   "outputs": [],
   "source": [
    "# Shakespeare\n",
    "text = \"\"\"\n",
    "Ha! let me see her: out, alas! he's cold:\n",
    "Her blood is settled, and her joints are stiff;\n",
    "Life and these lips have lips long been separated:\n",
    "Death lies on her like an untimely frost\n",
    "Upon the sweetest flower of all the field.\n",
    "\"\"\""
   ]
  },
  {
   "cell_type": "code",
   "execution_count": 21,
   "id": "3daae700",
   "metadata": {},
   "outputs": [
    {
     "data": {
      "text/plain": [
       "\"\\nHa! let me see her: out, alas! he's cold:\\nHer blood is settled, and her joints are stiff;\\nLife and these lips have lips\""
      ]
     },
     "execution_count": 21,
     "metadata": {},
     "output_type": "execute_result"
    }
   ],
   "source": [
    "m = re.match('(.|\\n)*lips',text)\n",
    "text[m.start():m.end()]"
   ]
  },
  {
   "cell_type": "code",
   "execution_count": 22,
   "id": "a08f420c",
   "metadata": {},
   "outputs": [
    {
     "data": {
      "text/plain": [
       "\"\\nHa! let me see her: out, alas! he's cold:\\nHer blood is settled, and her joints are stiff;\\nLife and these lips have lips\""
      ]
     },
     "execution_count": 22,
     "metadata": {},
     "output_type": "execute_result"
    }
   ],
   "source": [
    "m = re.match('.*lips',text,flags = re.DOTALL)\n",
    "# re.DOTALL flag ensures that the dot matches all characters,\n",
    "# including the new line character. \n",
    "text[m.start():m.end()]"
   ]
  },
  {
   "cell_type": "code",
   "execution_count": 23,
   "id": "d8c22f6d",
   "metadata": {},
   "outputs": [],
   "source": [
    "# re.match(pattern,string) returns a match object \n",
    "# re.findall(pattern,string) returns all matches in the string. "
   ]
  },
  {
   "cell_type": "code",
   "execution_count": 24,
   "id": "0fda7fb9",
   "metadata": {},
   "outputs": [
    {
     "data": {
      "text/plain": [
       "<re.Match object; span=(0, 6), match='Python'>"
      ]
     },
     "execution_count": 24,
     "metadata": {},
     "output_type": "execute_result"
    }
   ],
   "source": [
    "text = 'Python is superior to Python'\n",
    "re.match('Py...n',text)"
   ]
  },
  {
   "cell_type": "code",
   "execution_count": 25,
   "id": "e1bcc086",
   "metadata": {},
   "outputs": [
    {
     "data": {
      "text/plain": [
       "['Python', 'Python']"
      ]
     },
     "execution_count": 25,
     "metadata": {},
     "output_type": "execute_result"
    }
   ],
   "source": [
    "re.findall('Py...n',text)"
   ]
  },
  {
   "cell_type": "code",
   "execution_count": 26,
   "id": "b54fd2a7",
   "metadata": {},
   "outputs": [],
   "source": [
    "# re.fullmatch() returns a match object if the pattern matches\n",
    "# the whoole string. "
   ]
  },
  {
   "cell_type": "code",
   "execution_count": 27,
   "id": "7f67e53f",
   "metadata": {},
   "outputs": [],
   "source": [
    "text = '''\n",
    "Call me Ishmael. Some years ago--never mind how long\n",
    "    precisely\n",
    "--having little or no money in my purse, and nothing\n",
    "    particular\n",
    "to interest me on shore, I thought I would sail about\n",
    "    a little\n",
    "and see the watery part of the world.\n",
    "'''"
   ]
  },
  {
   "cell_type": "code",
   "execution_count": 28,
   "id": "37242178",
   "metadata": {},
   "outputs": [],
   "source": [
    "re.fullmatch('Call(.|\\n)*',text)"
   ]
  },
  {
   "cell_type": "code",
   "execution_count": 29,
   "id": "f2598998",
   "metadata": {},
   "outputs": [
    {
     "data": {
      "text/plain": [
       "<re.Match object; span=(0, 241), match='\\nCall me Ishmael. Some years ago--never mind how>"
      ]
     },
     "execution_count": 29,
     "metadata": {},
     "output_type": "execute_result"
    }
   ],
   "source": [
    "re.fullmatch('\\nCall(.|\\n)*',text)"
   ]
  },
  {
   "cell_type": "code",
   "execution_count": 30,
   "id": "1561315e",
   "metadata": {},
   "outputs": [
    {
     "data": {
      "text/plain": [
       "<re.Match object; span=(0, 14), match='More with less'>"
      ]
     },
     "execution_count": 30,
     "metadata": {},
     "output_type": "execute_result"
    }
   ],
   "source": [
    "text = 'More with less'\n",
    "re.match('More.*',text)"
   ]
  },
  {
   "cell_type": "code",
   "execution_count": 31,
   "id": "55c58299",
   "metadata": {},
   "outputs": [
    {
     "data": {
      "text/plain": [
       "<re.Match object; span=(0, 14), match='More with less'>"
      ]
     },
     "execution_count": 31,
     "metadata": {},
     "output_type": "execute_result"
    }
   ],
   "source": [
    "re.fullmatch('More.*',text)"
   ]
  },
  {
   "cell_type": "code",
   "execution_count": 32,
   "id": "d9a2fa5e",
   "metadata": {},
   "outputs": [
    {
     "data": {
      "text/plain": [
       "<re.Match object; span=(0, 4), match='More'>"
      ]
     },
     "execution_count": 32,
     "metadata": {},
     "output_type": "execute_result"
    }
   ],
   "source": [
    "re.match('More',text)"
   ]
  },
  {
   "cell_type": "code",
   "execution_count": 33,
   "id": "bae3a47c",
   "metadata": {},
   "outputs": [],
   "source": [
    "re.fullmatch('More',text)"
   ]
  },
  {
   "cell_type": "markdown",
   "id": "ad6d138f",
   "metadata": {},
   "source": [
    "## Dot Regex "
   ]
  },
  {
   "cell_type": "code",
   "execution_count": 34,
   "id": "dfc32bd4",
   "metadata": {},
   "outputs": [],
   "source": [
    "# dot matches all characters except the newline character"
   ]
  },
  {
   "cell_type": "code",
   "execution_count": 35,
   "id": "3e211ecf",
   "metadata": {},
   "outputs": [],
   "source": [
    "text = \"\"\"But then I saw no harm, and then I\n",
    "    heard\n",
    "Each syllable that breath made up between them.\n",
    "\"\"\""
   ]
  },
  {
   "cell_type": "code",
   "execution_count": 36,
   "id": "efb5aee7",
   "metadata": {},
   "outputs": [
    {
     "data": {
      "text/plain": [
       "['But']"
      ]
     },
     "execution_count": 36,
     "metadata": {},
     "output_type": "execute_result"
    }
   ],
   "source": [
    "re.findall('B..',text)"
   ]
  },
  {
   "cell_type": "code",
   "execution_count": 37,
   "id": "d2a0988b",
   "metadata": {},
   "outputs": [
    {
     "data": {
      "text/plain": [
       "[]"
      ]
     },
     "execution_count": 37,
     "metadata": {},
     "output_type": "execute_result"
    }
   ],
   "source": [
    "re.findall('heard.Each',text)"
   ]
  },
  {
   "cell_type": "code",
   "execution_count": 38,
   "id": "5185fb62",
   "metadata": {},
   "outputs": [
    {
     "data": {
      "text/plain": [
       "['heard\\nEach']"
      ]
     },
     "execution_count": 38,
     "metadata": {},
     "output_type": "execute_result"
    }
   ],
   "source": [
    "re.findall('heard\\nEach',text)"
   ]
  },
  {
   "cell_type": "markdown",
   "id": "92aa023e",
   "metadata": {},
   "source": [
    "## Flags"
   ]
  },
  {
   "cell_type": "code",
   "execution_count": 39,
   "id": "7097864d",
   "metadata": {},
   "outputs": [],
   "source": [
    "# re.ASCII = for matching only ASCII characters \n",
    "# re.DEBUG = for printing some useful information to the shell \n",
    "# re.IGNORECASE = for case-insensitive matching \n",
    "# re.MULTILINE = matches at the beginning of each line \n",
    "# re.DOTALL = matching all characters including the new line character\n",
    "# re.VERBOSE = improving the readability "
   ]
  },
  {
   "cell_type": "code",
   "execution_count": 40,
   "id": "4487b11a",
   "metadata": {},
   "outputs": [],
   "source": [
    "text = '''\n",
    "    Ha! let me see her: out, alas! he's cold:\n",
    "    Her blood is settled, and her joints are stiff;\n",
    "    Life and these lips have long been separated:\n",
    "    Death lies on her like an untimely frost\n",
    "    Upon the sweetest flower of all the field.\n",
    "'''"
   ]
  },
  {
   "cell_type": "code",
   "execution_count": 41,
   "id": "fdc95146",
   "metadata": {},
   "outputs": [
    {
     "data": {
      "text/plain": [
       "['her', 'Her', 'her', 'her']"
      ]
     },
     "execution_count": 41,
     "metadata": {},
     "output_type": "execute_result"
    }
   ],
   "source": [
    "re.findall('HER',text,flags = re.IGNORECASE)"
   ]
  },
  {
   "cell_type": "code",
   "execution_count": 42,
   "id": "231e5597",
   "metadata": {},
   "outputs": [
    {
     "data": {
      "text/plain": [
       "['her', 'Her', 'her', 'her']"
      ]
     },
     "execution_count": 42,
     "metadata": {},
     "output_type": "execute_result"
    }
   ],
   "source": [
    "re.findall('  HER # ignored', text,flags = re.IGNORECASE+re.VERBOSE)"
   ]
  },
  {
   "cell_type": "markdown",
   "id": "ee03d8b0",
   "metadata": {},
   "source": [
    "## Matching newline "
   ]
  },
  {
   "cell_type": "code",
   "execution_count": 43,
   "id": "18d54c3e",
   "metadata": {},
   "outputs": [],
   "source": [
    "# dot regex . matches a single arbitrary character except the newline"
   ]
  },
  {
   "cell_type": "code",
   "execution_count": 44,
   "id": "430874e9",
   "metadata": {},
   "outputs": [
    {
     "data": {
      "text/plain": [
       "[]"
      ]
     },
     "execution_count": 44,
     "metadata": {},
     "output_type": "execute_result"
    }
   ],
   "source": [
    "s = '''hello\n",
    "python\n",
    "'''\n",
    "re.findall('o.p',s)"
   ]
  },
  {
   "cell_type": "code",
   "execution_count": 45,
   "id": "eddf37d8",
   "metadata": {},
   "outputs": [
    {
     "data": {
      "text/plain": [
       "['o\\np']"
      ]
     },
     "execution_count": 45,
     "metadata": {},
     "output_type": "execute_result"
    }
   ],
   "source": [
    "re.findall('o.p',s,flags = re.DOTALL)"
   ]
  },
  {
   "cell_type": "code",
   "execution_count": 46,
   "id": "a8c95519",
   "metadata": {},
   "outputs": [
    {
     "data": {
      "text/plain": [
       "['o\\np']"
      ]
     },
     "execution_count": 46,
     "metadata": {},
     "output_type": "execute_result"
    }
   ],
   "source": [
    "re.findall('o[.\\n]p',s)"
   ]
  },
  {
   "cell_type": "code",
   "execution_count": 47,
   "id": "3af87b9f",
   "metadata": {},
   "outputs": [
    {
     "data": {
      "text/plain": [
       "['Python.', 'Language.']"
      ]
     },
     "execution_count": 47,
     "metadata": {},
     "output_type": "execute_result"
    }
   ],
   "source": [
    "# if we want to match the . (period) character use \\\n",
    "text = 'Python. is a great Language.'\n",
    "re.findall('\\w+\\.',text)"
   ]
  },
  {
   "cell_type": "code",
   "execution_count": 48,
   "id": "16f19257",
   "metadata": {},
   "outputs": [
    {
     "data": {
      "text/plain": [
       "['. ']"
      ]
     },
     "execution_count": 48,
     "metadata": {},
     "output_type": "execute_result"
    }
   ],
   "source": [
    "re.findall('\\.\\s',text)"
   ]
  },
  {
   "cell_type": "code",
   "execution_count": 49,
   "id": "58c76bc0",
   "metadata": {},
   "outputs": [
    {
     "data": {
      "text/plain": [
       "['n.']"
      ]
     },
     "execution_count": 49,
     "metadata": {},
     "output_type": "execute_result"
    }
   ],
   "source": [
    "re.findall('[nt]\\.',text)"
   ]
  },
  {
   "cell_type": "code",
   "execution_count": 50,
   "id": "59437c9a",
   "metadata": {},
   "outputs": [
    {
     "data": {
      "text/plain": [
       "True"
      ]
     },
     "execution_count": 50,
     "metadata": {},
     "output_type": "execute_result"
    }
   ],
   "source": [
    "text = 'Speedy Gonzalez'\n",
    "matches = re.findall('.',text)\n",
    "result= len(matches) == len(text)\n",
    "result"
   ]
  },
  {
   "cell_type": "markdown",
   "id": "50cb3118",
   "metadata": {},
   "source": [
    "## The Asterisk * Quantifier"
   ]
  },
  {
   "cell_type": "code",
   "execution_count": 51,
   "id": "3ed9e241",
   "metadata": {},
   "outputs": [],
   "source": [
    "# A* matches zero or more occurences of A"
   ]
  },
  {
   "cell_type": "code",
   "execution_count": 54,
   "id": "0167603b",
   "metadata": {},
   "outputs": [
    {
     "data": {
      "text/plain": [
       "['for f fast and fun python ']"
      ]
     },
     "execution_count": 54,
     "metadata": {},
     "output_type": "execute_result"
    }
   ],
   "source": [
    "text = 'jupyter for f fast and fun python learning'\n",
    "re.findall('f.* ',text)"
   ]
  },
  {
   "cell_type": "code",
   "execution_count": 55,
   "id": "b66ee07d",
   "metadata": {},
   "outputs": [
    {
     "data": {
      "text/plain": [
       "['for', 'f', 'fast', 'fun']"
      ]
     },
     "execution_count": 55,
     "metadata": {},
     "output_type": "execute_result"
    }
   ],
   "source": [
    "re.findall('f[a-z]*',text)"
   ]
  },
  {
   "cell_type": "code",
   "execution_count": 56,
   "id": "32978917",
   "metadata": {},
   "outputs": [
    {
     "data": {
      "text/plain": [
       "['*', '*', '*', '*', '*', '*']"
      ]
     },
     "execution_count": 56,
     "metadata": {},
     "output_type": "execute_result"
    }
   ],
   "source": [
    "text = 'Python is ***great***'\n",
    "re.findall('\\*',text)"
   ]
  },
  {
   "cell_type": "code",
   "execution_count": 57,
   "id": "72fbc587",
   "metadata": {},
   "outputs": [
    {
     "data": {
      "text/plain": [
       "['', '', '', '', '', '', '', '', '', '', '***', '', '', '', '', '', '***', '']"
      ]
     },
     "execution_count": 57,
     "metadata": {},
     "output_type": "execute_result"
    }
   ],
   "source": [
    "re.findall('\\**',text)"
   ]
  },
  {
   "cell_type": "code",
   "execution_count": 59,
   "id": "186e2bcb",
   "metadata": {},
   "outputs": [
    {
     "data": {
      "text/plain": [
       "['***', '***']"
      ]
     },
     "execution_count": 59,
     "metadata": {},
     "output_type": "execute_result"
    }
   ],
   "source": [
    "re.findall('\\*+',text)"
   ]
  },
  {
   "cell_type": "code",
   "execution_count": 63,
   "id": "1e2f9c98",
   "metadata": {},
   "outputs": [
    {
     "name": "stdout",
     "output_type": "stream",
     "text": [
      "['@MrBeastYT']\n"
     ]
    }
   ],
   "source": [
    "famous_tweet = '''\n",
    "I'm going give someone random who retweets this\n",
    "tweet $10,000 because it's my birthday and I feel\n",
    "like being nice (you have to be following me so\n",
    "I can dm you the code if you win)\n",
    "@MrBeastYT\n",
    "#Twitter\n",
    "'''\n",
    "user = re.findall('@.*', famous_tweet)\n",
    "print(user)"
   ]
  },
  {
   "cell_type": "markdown",
   "id": "721efb16",
   "metadata": {},
   "source": [
    "## The plus + operator "
   ]
  },
  {
   "cell_type": "code",
   "execution_count": 67,
   "id": "b1add731",
   "metadata": {},
   "outputs": [
    {
     "data": {
      "text/plain": [
       "['<!doctype html>',\n",
       " '<html>',\n",
       " '<head>',\n",
       " \"<meta charset = 'utf-8'>\",\n",
       " '</head>',\n",
       " '<body>',\n",
       " '</body>',\n",
       " '</html>']"
      ]
     },
     "execution_count": 67,
     "metadata": {},
     "output_type": "execute_result"
    }
   ],
   "source": [
    "website =\"\"\"\n",
    "<!doctype html> \n",
    "<html>\n",
    "    <head>\n",
    "        <meta charset = 'utf-8'>\n",
    "    </head>\n",
    "    <body>\n",
    "        hello world\n",
    "    </body>\n",
    "</html>\n",
    "\"\"\"\n",
    "\n",
    "re.findall('<.+>', website)"
   ]
  },
  {
   "cell_type": "markdown",
   "id": "c4719959",
   "metadata": {},
   "source": [
    "## Look Behind "
   ]
  },
  {
   "cell_type": "code",
   "execution_count": null,
   "id": "2492eaaa",
   "metadata": {},
   "outputs": [],
   "source": []
  }
 ],
 "metadata": {
  "kernelspec": {
   "display_name": "Python 3.9.7 ('base')",
   "language": "python",
   "name": "python397jvsc74a57bd03a7f3cfddef40415f2c3e908d337f80e89be6feadbe3da4105b45147e3d0640d"
  },
  "language_info": {
   "codemirror_mode": {
    "name": "ipython",
    "version": 3
   },
   "file_extension": ".py",
   "mimetype": "text/x-python",
   "name": "python",
   "nbconvert_exporter": "python",
   "pygments_lexer": "ipython3",
   "version": "3.9.7"
  }
 },
 "nbformat": 4,
 "nbformat_minor": 5
}
